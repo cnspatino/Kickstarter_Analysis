{
 "cells": [
  {
   "cell_type": "markdown",
   "metadata": {},
   "source": [
    "# Kickstarter data analysis by Cady Patino"
   ]
  },
  {
   "cell_type": "markdown",
   "metadata": {},
   "source": [
    "**Questions:**\n",
    "1. Which categories have the best and worst success rates?\n",
    "2. How does success rate relate to goal amount?\n",
    "3. Does duration of a project influence success rate?\n",
    "4. What features have the greatest influence on success?\n",
    "5. Can we predict success of current/future projects?\n",
    "    "
   ]
  },
  {
   "cell_type": "markdown",
   "metadata": {},
   "source": [
    "## First, A Look at the Data"
   ]
  },
  {
   "cell_type": "code",
   "execution_count": 1,
   "metadata": {},
   "outputs": [],
   "source": [
    "# load packages\n",
    "import pandas as pd\n",
    "import numpy as np\n",
    "import seaborn as sns\n",
    "import matplotlib.pyplot as plt\n",
    "from IPython import display\n",
    "%matplotlib inline"
   ]
  },
  {
   "cell_type": "code",
   "execution_count": 2,
   "metadata": {},
   "outputs": [
    {
     "data": {
      "text/html": [
       "<div>\n",
       "<style scoped>\n",
       "    .dataframe tbody tr th:only-of-type {\n",
       "        vertical-align: middle;\n",
       "    }\n",
       "\n",
       "    .dataframe tbody tr th {\n",
       "        vertical-align: top;\n",
       "    }\n",
       "\n",
       "    .dataframe thead th {\n",
       "        text-align: right;\n",
       "    }\n",
       "</style>\n",
       "<table border=\"1\" class=\"dataframe\">\n",
       "  <thead>\n",
       "    <tr style=\"text-align: right;\">\n",
       "      <th></th>\n",
       "      <th>ID</th>\n",
       "      <th>name</th>\n",
       "      <th>category</th>\n",
       "      <th>main_category</th>\n",
       "      <th>currency</th>\n",
       "      <th>deadline</th>\n",
       "      <th>goal</th>\n",
       "      <th>launched</th>\n",
       "      <th>pledged</th>\n",
       "      <th>state</th>\n",
       "      <th>backers</th>\n",
       "      <th>country</th>\n",
       "      <th>usd pledged</th>\n",
       "      <th>usd_pledged_real</th>\n",
       "      <th>usd_goal_real</th>\n",
       "    </tr>\n",
       "  </thead>\n",
       "  <tbody>\n",
       "    <tr>\n",
       "      <th>0</th>\n",
       "      <td>1000002330</td>\n",
       "      <td>The Songs of Adelaide &amp; Abullah</td>\n",
       "      <td>Poetry</td>\n",
       "      <td>Publishing</td>\n",
       "      <td>GBP</td>\n",
       "      <td>2015-10-09</td>\n",
       "      <td>1000.0</td>\n",
       "      <td>2015-08-11 12:12:28</td>\n",
       "      <td>0.0</td>\n",
       "      <td>failed</td>\n",
       "      <td>0</td>\n",
       "      <td>GB</td>\n",
       "      <td>0.0</td>\n",
       "      <td>0.0</td>\n",
       "      <td>1533.95</td>\n",
       "    </tr>\n",
       "    <tr>\n",
       "      <th>1</th>\n",
       "      <td>1000003930</td>\n",
       "      <td>Greeting From Earth: ZGAC Arts Capsule For ET</td>\n",
       "      <td>Narrative Film</td>\n",
       "      <td>Film &amp; Video</td>\n",
       "      <td>USD</td>\n",
       "      <td>2017-11-01</td>\n",
       "      <td>30000.0</td>\n",
       "      <td>2017-09-02 04:43:57</td>\n",
       "      <td>2421.0</td>\n",
       "      <td>failed</td>\n",
       "      <td>15</td>\n",
       "      <td>US</td>\n",
       "      <td>100.0</td>\n",
       "      <td>2421.0</td>\n",
       "      <td>30000.00</td>\n",
       "    </tr>\n",
       "    <tr>\n",
       "      <th>2</th>\n",
       "      <td>1000004038</td>\n",
       "      <td>Where is Hank?</td>\n",
       "      <td>Narrative Film</td>\n",
       "      <td>Film &amp; Video</td>\n",
       "      <td>USD</td>\n",
       "      <td>2013-02-26</td>\n",
       "      <td>45000.0</td>\n",
       "      <td>2013-01-12 00:20:50</td>\n",
       "      <td>220.0</td>\n",
       "      <td>failed</td>\n",
       "      <td>3</td>\n",
       "      <td>US</td>\n",
       "      <td>220.0</td>\n",
       "      <td>220.0</td>\n",
       "      <td>45000.00</td>\n",
       "    </tr>\n",
       "    <tr>\n",
       "      <th>3</th>\n",
       "      <td>1000007540</td>\n",
       "      <td>ToshiCapital Rekordz Needs Help to Complete Album</td>\n",
       "      <td>Music</td>\n",
       "      <td>Music</td>\n",
       "      <td>USD</td>\n",
       "      <td>2012-04-16</td>\n",
       "      <td>5000.0</td>\n",
       "      <td>2012-03-17 03:24:11</td>\n",
       "      <td>1.0</td>\n",
       "      <td>failed</td>\n",
       "      <td>1</td>\n",
       "      <td>US</td>\n",
       "      <td>1.0</td>\n",
       "      <td>1.0</td>\n",
       "      <td>5000.00</td>\n",
       "    </tr>\n",
       "    <tr>\n",
       "      <th>4</th>\n",
       "      <td>1000011046</td>\n",
       "      <td>Community Film Project: The Art of Neighborhoo...</td>\n",
       "      <td>Film &amp; Video</td>\n",
       "      <td>Film &amp; Video</td>\n",
       "      <td>USD</td>\n",
       "      <td>2015-08-29</td>\n",
       "      <td>19500.0</td>\n",
       "      <td>2015-07-04 08:35:03</td>\n",
       "      <td>1283.0</td>\n",
       "      <td>canceled</td>\n",
       "      <td>14</td>\n",
       "      <td>US</td>\n",
       "      <td>1283.0</td>\n",
       "      <td>1283.0</td>\n",
       "      <td>19500.00</td>\n",
       "    </tr>\n",
       "  </tbody>\n",
       "</table>\n",
       "</div>"
      ],
      "text/plain": [
       "           ID                                               name  \\\n",
       "0  1000002330                    The Songs of Adelaide & Abullah   \n",
       "1  1000003930      Greeting From Earth: ZGAC Arts Capsule For ET   \n",
       "2  1000004038                                     Where is Hank?   \n",
       "3  1000007540  ToshiCapital Rekordz Needs Help to Complete Album   \n",
       "4  1000011046  Community Film Project: The Art of Neighborhoo...   \n",
       "\n",
       "         category main_category currency    deadline     goal  \\\n",
       "0          Poetry    Publishing      GBP  2015-10-09   1000.0   \n",
       "1  Narrative Film  Film & Video      USD  2017-11-01  30000.0   \n",
       "2  Narrative Film  Film & Video      USD  2013-02-26  45000.0   \n",
       "3           Music         Music      USD  2012-04-16   5000.0   \n",
       "4    Film & Video  Film & Video      USD  2015-08-29  19500.0   \n",
       "\n",
       "              launched  pledged     state  backers country  usd pledged  \\\n",
       "0  2015-08-11 12:12:28      0.0    failed        0      GB          0.0   \n",
       "1  2017-09-02 04:43:57   2421.0    failed       15      US        100.0   \n",
       "2  2013-01-12 00:20:50    220.0    failed        3      US        220.0   \n",
       "3  2012-03-17 03:24:11      1.0    failed        1      US          1.0   \n",
       "4  2015-07-04 08:35:03   1283.0  canceled       14      US       1283.0   \n",
       "\n",
       "   usd_pledged_real  usd_goal_real  \n",
       "0               0.0        1533.95  \n",
       "1            2421.0       30000.00  \n",
       "2             220.0       45000.00  \n",
       "3               1.0        5000.00  \n",
       "4            1283.0       19500.00  "
      ]
     },
     "execution_count": 2,
     "metadata": {},
     "output_type": "execute_result"
    }
   ],
   "source": [
    "# load in csv file as dataframe\n",
    "df = pd.read_csv('ks-projects-201801.csv')\n",
    "df.head()"
   ]
  },
  {
   "cell_type": "code",
   "execution_count": 3,
   "metadata": {},
   "outputs": [
    {
     "data": {
      "text/plain": [
       "(378661, 15)"
      ]
     },
     "execution_count": 3,
     "metadata": {},
     "output_type": "execute_result"
    }
   ],
   "source": [
    "df.shape"
   ]
  },
  {
   "cell_type": "markdown",
   "metadata": {},
   "source": [
    "This data frame has 15 columns and 378,661 entries."
   ]
  },
  {
   "cell_type": "code",
   "execution_count": 4,
   "metadata": {
    "scrolled": true
   },
   "outputs": [
    {
     "name": "stdout",
     "output_type": "stream",
     "text": [
      "<class 'pandas.core.frame.DataFrame'>\n",
      "RangeIndex: 378661 entries, 0 to 378660\n",
      "Data columns (total 15 columns):\n",
      "ID                  378661 non-null int64\n",
      "name                378657 non-null object\n",
      "category            378661 non-null object\n",
      "main_category       378661 non-null object\n",
      "currency            378661 non-null object\n",
      "deadline            378661 non-null object\n",
      "goal                378661 non-null float64\n",
      "launched            378661 non-null object\n",
      "pledged             378661 non-null float64\n",
      "state               378661 non-null object\n",
      "backers             378661 non-null int64\n",
      "country             378661 non-null object\n",
      "usd pledged         374864 non-null float64\n",
      "usd_pledged_real    378661 non-null float64\n",
      "usd_goal_real       378661 non-null float64\n",
      "dtypes: float64(5), int64(2), object(8)\n",
      "memory usage: 43.3+ MB\n"
     ]
    }
   ],
   "source": [
    "df.info()"
   ]
  },
  {
   "cell_type": "markdown",
   "metadata": {},
   "source": [
    "It looks like from the kaggle description that 'usd pledged' and usd_pledged_real are both conversions of the pledged amount to usd, but done by different users. 'usd pledged' was calculated via Kickstarter and 'usd_pledged_real' was calculated via the Kaggle user tonyplaysguitar using the Fixer.io API. Let's take a look at some of the rows to see if they match up."
   ]
  },
  {
   "cell_type": "code",
   "execution_count": 5,
   "metadata": {
    "scrolled": false
   },
   "outputs": [
    {
     "data": {
      "text/html": [
       "<div>\n",
       "<style scoped>\n",
       "    .dataframe tbody tr th:only-of-type {\n",
       "        vertical-align: middle;\n",
       "    }\n",
       "\n",
       "    .dataframe tbody tr th {\n",
       "        vertical-align: top;\n",
       "    }\n",
       "\n",
       "    .dataframe thead th {\n",
       "        text-align: right;\n",
       "    }\n",
       "</style>\n",
       "<table border=\"1\" class=\"dataframe\">\n",
       "  <thead>\n",
       "    <tr style=\"text-align: right;\">\n",
       "      <th></th>\n",
       "      <th>country</th>\n",
       "      <th>pledged</th>\n",
       "      <th>usd pledged</th>\n",
       "      <th>usd_pledged_real</th>\n",
       "    </tr>\n",
       "  </thead>\n",
       "  <tbody>\n",
       "    <tr>\n",
       "      <th>0</th>\n",
       "      <td>GB</td>\n",
       "      <td>0.00</td>\n",
       "      <td>0.00</td>\n",
       "      <td>0.00</td>\n",
       "    </tr>\n",
       "    <tr>\n",
       "      <th>1</th>\n",
       "      <td>US</td>\n",
       "      <td>2421.00</td>\n",
       "      <td>100.00</td>\n",
       "      <td>2421.00</td>\n",
       "    </tr>\n",
       "    <tr>\n",
       "      <th>2</th>\n",
       "      <td>US</td>\n",
       "      <td>220.00</td>\n",
       "      <td>220.00</td>\n",
       "      <td>220.00</td>\n",
       "    </tr>\n",
       "    <tr>\n",
       "      <th>3</th>\n",
       "      <td>US</td>\n",
       "      <td>1.00</td>\n",
       "      <td>1.00</td>\n",
       "      <td>1.00</td>\n",
       "    </tr>\n",
       "    <tr>\n",
       "      <th>4</th>\n",
       "      <td>US</td>\n",
       "      <td>1283.00</td>\n",
       "      <td>1283.00</td>\n",
       "      <td>1283.00</td>\n",
       "    </tr>\n",
       "    <tr>\n",
       "      <th>5</th>\n",
       "      <td>US</td>\n",
       "      <td>52375.00</td>\n",
       "      <td>52375.00</td>\n",
       "      <td>52375.00</td>\n",
       "    </tr>\n",
       "    <tr>\n",
       "      <th>6</th>\n",
       "      <td>US</td>\n",
       "      <td>1205.00</td>\n",
       "      <td>1205.00</td>\n",
       "      <td>1205.00</td>\n",
       "    </tr>\n",
       "    <tr>\n",
       "      <th>7</th>\n",
       "      <td>US</td>\n",
       "      <td>453.00</td>\n",
       "      <td>453.00</td>\n",
       "      <td>453.00</td>\n",
       "    </tr>\n",
       "    <tr>\n",
       "      <th>8</th>\n",
       "      <td>US</td>\n",
       "      <td>8233.00</td>\n",
       "      <td>8233.00</td>\n",
       "      <td>8233.00</td>\n",
       "    </tr>\n",
       "    <tr>\n",
       "      <th>9</th>\n",
       "      <td>US</td>\n",
       "      <td>6240.57</td>\n",
       "      <td>6240.57</td>\n",
       "      <td>6240.57</td>\n",
       "    </tr>\n",
       "    <tr>\n",
       "      <th>10</th>\n",
       "      <td>CA</td>\n",
       "      <td>0.00</td>\n",
       "      <td>0.00</td>\n",
       "      <td>0.00</td>\n",
       "    </tr>\n",
       "    <tr>\n",
       "      <th>11</th>\n",
       "      <td>US</td>\n",
       "      <td>12700.00</td>\n",
       "      <td>12700.00</td>\n",
       "      <td>12700.00</td>\n",
       "    </tr>\n",
       "    <tr>\n",
       "      <th>12</th>\n",
       "      <td>US</td>\n",
       "      <td>0.00</td>\n",
       "      <td>0.00</td>\n",
       "      <td>0.00</td>\n",
       "    </tr>\n",
       "    <tr>\n",
       "      <th>13</th>\n",
       "      <td>US</td>\n",
       "      <td>0.00</td>\n",
       "      <td>0.00</td>\n",
       "      <td>0.00</td>\n",
       "    </tr>\n",
       "    <tr>\n",
       "      <th>14</th>\n",
       "      <td>GB</td>\n",
       "      <td>94175.00</td>\n",
       "      <td>57763.78</td>\n",
       "      <td>121857.33</td>\n",
       "    </tr>\n",
       "  </tbody>\n",
       "</table>\n",
       "</div>"
      ],
      "text/plain": [
       "   country   pledged  usd pledged  usd_pledged_real\n",
       "0       GB      0.00         0.00              0.00\n",
       "1       US   2421.00       100.00           2421.00\n",
       "2       US    220.00       220.00            220.00\n",
       "3       US      1.00         1.00              1.00\n",
       "4       US   1283.00      1283.00           1283.00\n",
       "5       US  52375.00     52375.00          52375.00\n",
       "6       US   1205.00      1205.00           1205.00\n",
       "7       US    453.00       453.00            453.00\n",
       "8       US   8233.00      8233.00           8233.00\n",
       "9       US   6240.57      6240.57           6240.57\n",
       "10      CA      0.00         0.00              0.00\n",
       "11      US  12700.00     12700.00          12700.00\n",
       "12      US      0.00         0.00              0.00\n",
       "13      US      0.00         0.00              0.00\n",
       "14      GB  94175.00     57763.78         121857.33"
      ]
     },
     "execution_count": 5,
     "metadata": {},
     "output_type": "execute_result"
    }
   ],
   "source": [
    "df[['country','pledged', 'usd pledged','usd_pledged_real']].head(15)"
   ]
  },
  {
   "cell_type": "markdown",
   "metadata": {},
   "source": [
    "Above, I can already see that 'usd pledged' done by Kaggle has some mistakes, so I'll drop it and go with 'usd_pledged_real'. In addition, I'll drop the 'pledged' and 'goal' columns since these are represented consistently as USD in other columns."
   ]
  },
  {
   "cell_type": "code",
   "execution_count": 6,
   "metadata": {},
   "outputs": [
    {
     "data": {
      "text/plain": [
       "12"
      ]
     },
     "execution_count": 6,
     "metadata": {},
     "output_type": "execute_result"
    }
   ],
   "source": [
    "# drop unnecessary columns\n",
    "df.drop(['usd pledged', 'pledged','goal'], axis=1, inplace=True)\n",
    "\n",
    "# confirm (should be 12)\n",
    "df.shape[1]"
   ]
  },
  {
   "cell_type": "markdown",
   "metadata": {},
   "source": [
    "I can also drop the ID and name columns since those will not be important in the analysis."
   ]
  },
  {
   "cell_type": "code",
   "execution_count": 7,
   "metadata": {},
   "outputs": [
    {
     "data": {
      "text/plain": [
       "10"
      ]
     },
     "execution_count": 7,
     "metadata": {},
     "output_type": "execute_result"
    }
   ],
   "source": [
    "# drop ID column\n",
    "df.drop(['ID','name'], axis=1, inplace=True)\n",
    "\n",
    "# confirm (should be 11)\n",
    "df.shape[1]"
   ]
  },
  {
   "cell_type": "code",
   "execution_count": 8,
   "metadata": {
    "scrolled": true
   },
   "outputs": [
    {
     "data": {
      "text/plain": [
       "category            0\n",
       "main_category       0\n",
       "currency            0\n",
       "deadline            0\n",
       "launched            0\n",
       "state               0\n",
       "backers             0\n",
       "country             0\n",
       "usd_pledged_real    0\n",
       "usd_goal_real       0\n",
       "dtype: int64"
      ]
     },
     "execution_count": 8,
     "metadata": {},
     "output_type": "execute_result"
    }
   ],
   "source": [
    "df.isnull().sum()"
   ]
  },
  {
   "cell_type": "markdown",
   "metadata": {},
   "source": [
    "There are no null values in the dataset."
   ]
  },
  {
   "cell_type": "markdown",
   "metadata": {},
   "source": [
    "Let's take a look at some descriptive statistics for the numerical variables."
   ]
  },
  {
   "cell_type": "code",
   "execution_count": 9,
   "metadata": {
    "scrolled": true
   },
   "outputs": [
    {
     "data": {
      "text/html": [
       "<div>\n",
       "<style scoped>\n",
       "    .dataframe tbody tr th:only-of-type {\n",
       "        vertical-align: middle;\n",
       "    }\n",
       "\n",
       "    .dataframe tbody tr th {\n",
       "        vertical-align: top;\n",
       "    }\n",
       "\n",
       "    .dataframe thead th {\n",
       "        text-align: right;\n",
       "    }\n",
       "</style>\n",
       "<table border=\"1\" class=\"dataframe\">\n",
       "  <thead>\n",
       "    <tr style=\"text-align: right;\">\n",
       "      <th></th>\n",
       "      <th>backers</th>\n",
       "      <th>usd_pledged_real</th>\n",
       "      <th>usd_goal_real</th>\n",
       "    </tr>\n",
       "  </thead>\n",
       "  <tbody>\n",
       "    <tr>\n",
       "      <th>count</th>\n",
       "      <td>378661.000000</td>\n",
       "      <td>3.786610e+05</td>\n",
       "      <td>3.786610e+05</td>\n",
       "    </tr>\n",
       "    <tr>\n",
       "      <th>mean</th>\n",
       "      <td>105.617476</td>\n",
       "      <td>9.058924e+03</td>\n",
       "      <td>4.545440e+04</td>\n",
       "    </tr>\n",
       "    <tr>\n",
       "      <th>std</th>\n",
       "      <td>907.185035</td>\n",
       "      <td>9.097334e+04</td>\n",
       "      <td>1.152950e+06</td>\n",
       "    </tr>\n",
       "    <tr>\n",
       "      <th>min</th>\n",
       "      <td>0.000000</td>\n",
       "      <td>0.000000e+00</td>\n",
       "      <td>1.000000e-02</td>\n",
       "    </tr>\n",
       "    <tr>\n",
       "      <th>25%</th>\n",
       "      <td>2.000000</td>\n",
       "      <td>3.100000e+01</td>\n",
       "      <td>2.000000e+03</td>\n",
       "    </tr>\n",
       "    <tr>\n",
       "      <th>50%</th>\n",
       "      <td>12.000000</td>\n",
       "      <td>6.243300e+02</td>\n",
       "      <td>5.500000e+03</td>\n",
       "    </tr>\n",
       "    <tr>\n",
       "      <th>75%</th>\n",
       "      <td>56.000000</td>\n",
       "      <td>4.050000e+03</td>\n",
       "      <td>1.550000e+04</td>\n",
       "    </tr>\n",
       "    <tr>\n",
       "      <th>max</th>\n",
       "      <td>219382.000000</td>\n",
       "      <td>2.033899e+07</td>\n",
       "      <td>1.663614e+08</td>\n",
       "    </tr>\n",
       "  </tbody>\n",
       "</table>\n",
       "</div>"
      ],
      "text/plain": [
       "             backers  usd_pledged_real  usd_goal_real\n",
       "count  378661.000000      3.786610e+05   3.786610e+05\n",
       "mean      105.617476      9.058924e+03   4.545440e+04\n",
       "std       907.185035      9.097334e+04   1.152950e+06\n",
       "min         0.000000      0.000000e+00   1.000000e-02\n",
       "25%         2.000000      3.100000e+01   2.000000e+03\n",
       "50%        12.000000      6.243300e+02   5.500000e+03\n",
       "75%        56.000000      4.050000e+03   1.550000e+04\n",
       "max    219382.000000      2.033899e+07   1.663614e+08"
      ]
     },
     "execution_count": 9,
     "metadata": {},
     "output_type": "execute_result"
    }
   ],
   "source": [
    "df.describe()"
   ]
  },
  {
   "cell_type": "markdown",
   "metadata": {},
   "source": [
    "We can see that there are a lot of high outliers in the three numerical features above, based on the fact that their max values are much greater than the lower 75% of the data."
   ]
  },
  {
   "cell_type": "markdown",
   "metadata": {},
   "source": [
    "Now let's take a closer look at the categorical variables."
   ]
  },
  {
   "cell_type": "code",
   "execution_count": 10,
   "metadata": {
    "scrolled": true
   },
   "outputs": [
    {
     "data": {
      "text/plain": [
       "Product Design       22314\n",
       "Documentary          16139\n",
       "Music                15727\n",
       "Tabletop Games       14180\n",
       "Shorts               12357\n",
       "Video Games          11830\n",
       "Food                 11493\n",
       "Film & Video         10108\n",
       "Fiction               9169\n",
       "Fashion               8554\n",
       "Nonfiction            8318\n",
       "Art                   8253\n",
       "Apparel               7166\n",
       "Theater               7057\n",
       "Technology            6930\n",
       "Rock                  6758\n",
       "Children's Books      6756\n",
       "Apps                  6345\n",
       "Publishing            6018\n",
       "Webseries             5762\n",
       "Photography           5752\n",
       "Indie Rock            5657\n",
       "Narrative Film        5188\n",
       "Web                   5153\n",
       "Comics                4996\n",
       "Crafts                4664\n",
       "Country & Folk        4451\n",
       "Design                4199\n",
       "Hip-Hop               3912\n",
       "Hardware              3663\n",
       "                     ...  \n",
       "Couture                275\n",
       "Blues                  268\n",
       "Animals                255\n",
       "Fabrication Tools      250\n",
       "Printing               238\n",
       "Makerspaces            238\n",
       "Movie Theaters         232\n",
       "Puzzles                231\n",
       "Bacon                  221\n",
       "Stationery             219\n",
       "Photo                  196\n",
       "Video Art              194\n",
       "Romance                190\n",
       "Knitting               181\n",
       "Workshops              164\n",
       "Crochet                162\n",
       "Translations           153\n",
       "Pet Fashion            139\n",
       "Glass                  138\n",
       "Latin                  137\n",
       "Embroidery             113\n",
       "Typography             108\n",
       "Pottery                100\n",
       "Weaving                 93\n",
       "Quilts                  81\n",
       "Residencies             69\n",
       "Letterpress             49\n",
       "Chiptune                35\n",
       "Literary Spaces         27\n",
       "Taxidermy               13\n",
       "Name: category, Length: 159, dtype: int64"
      ]
     },
     "execution_count": 10,
     "metadata": {},
     "output_type": "execute_result"
    }
   ],
   "source": [
    "df.category.value_counts()"
   ]
  },
  {
   "cell_type": "code",
   "execution_count": 11,
   "metadata": {},
   "outputs": [
    {
     "data": {
      "text/plain": [
       "159"
      ]
     },
     "execution_count": 11,
     "metadata": {},
     "output_type": "execute_result"
    }
   ],
   "source": [
    "df.category.nunique()"
   ]
  },
  {
   "cell_type": "code",
   "execution_count": 12,
   "metadata": {},
   "outputs": [
    {
     "data": {
      "text/plain": [
       "Film & Video    63585\n",
       "Music           51918\n",
       "Publishing      39874\n",
       "Games           35231\n",
       "Technology      32569\n",
       "Design          30070\n",
       "Art             28153\n",
       "Food            24602\n",
       "Fashion         22816\n",
       "Theater         10913\n",
       "Comics          10819\n",
       "Photography     10779\n",
       "Crafts           8809\n",
       "Journalism       4755\n",
       "Dance            3768\n",
       "Name: main_category, dtype: int64"
      ]
     },
     "execution_count": 12,
     "metadata": {},
     "output_type": "execute_result"
    }
   ],
   "source": [
    "df.main_category.value_counts()"
   ]
  },
  {
   "cell_type": "code",
   "execution_count": 13,
   "metadata": {},
   "outputs": [
    {
     "data": {
      "text/plain": [
       "15"
      ]
     },
     "execution_count": 13,
     "metadata": {},
     "output_type": "execute_result"
    }
   ],
   "source": [
    "df.main_category.nunique()"
   ]
  },
  {
   "cell_type": "markdown",
   "metadata": {},
   "source": [
    "There are 15 main categories and 159 sub categories for these kickstarter projects. I now want to take a look at the proportion of projects in each main category."
   ]
  },
  {
   "cell_type": "code",
   "execution_count": 14,
   "metadata": {},
   "outputs": [
    {
     "data": {
      "text/html": [
       "<div>\n",
       "<style scoped>\n",
       "    .dataframe tbody tr th:only-of-type {\n",
       "        vertical-align: middle;\n",
       "    }\n",
       "\n",
       "    .dataframe tbody tr th {\n",
       "        vertical-align: top;\n",
       "    }\n",
       "\n",
       "    .dataframe thead th {\n",
       "        text-align: right;\n",
       "    }\n",
       "</style>\n",
       "<table border=\"1\" class=\"dataframe\">\n",
       "  <thead>\n",
       "    <tr style=\"text-align: right;\">\n",
       "      <th></th>\n",
       "      <th>main_category</th>\n",
       "      <th>count</th>\n",
       "    </tr>\n",
       "  </thead>\n",
       "  <tbody>\n",
       "    <tr>\n",
       "      <th>0</th>\n",
       "      <td>Film &amp; Video</td>\n",
       "      <td>63585</td>\n",
       "    </tr>\n",
       "    <tr>\n",
       "      <th>1</th>\n",
       "      <td>Music</td>\n",
       "      <td>51918</td>\n",
       "    </tr>\n",
       "    <tr>\n",
       "      <th>2</th>\n",
       "      <td>Publishing</td>\n",
       "      <td>39874</td>\n",
       "    </tr>\n",
       "    <tr>\n",
       "      <th>3</th>\n",
       "      <td>Games</td>\n",
       "      <td>35231</td>\n",
       "    </tr>\n",
       "    <tr>\n",
       "      <th>4</th>\n",
       "      <td>Technology</td>\n",
       "      <td>32569</td>\n",
       "    </tr>\n",
       "    <tr>\n",
       "      <th>5</th>\n",
       "      <td>Design</td>\n",
       "      <td>30070</td>\n",
       "    </tr>\n",
       "    <tr>\n",
       "      <th>6</th>\n",
       "      <td>Art</td>\n",
       "      <td>28153</td>\n",
       "    </tr>\n",
       "    <tr>\n",
       "      <th>7</th>\n",
       "      <td>Food</td>\n",
       "      <td>24602</td>\n",
       "    </tr>\n",
       "    <tr>\n",
       "      <th>8</th>\n",
       "      <td>Fashion</td>\n",
       "      <td>22816</td>\n",
       "    </tr>\n",
       "    <tr>\n",
       "      <th>9</th>\n",
       "      <td>Theater</td>\n",
       "      <td>10913</td>\n",
       "    </tr>\n",
       "    <tr>\n",
       "      <th>10</th>\n",
       "      <td>Comics</td>\n",
       "      <td>10819</td>\n",
       "    </tr>\n",
       "    <tr>\n",
       "      <th>11</th>\n",
       "      <td>Photography</td>\n",
       "      <td>10779</td>\n",
       "    </tr>\n",
       "    <tr>\n",
       "      <th>12</th>\n",
       "      <td>Crafts</td>\n",
       "      <td>8809</td>\n",
       "    </tr>\n",
       "    <tr>\n",
       "      <th>13</th>\n",
       "      <td>Journalism</td>\n",
       "      <td>4755</td>\n",
       "    </tr>\n",
       "    <tr>\n",
       "      <th>14</th>\n",
       "      <td>Dance</td>\n",
       "      <td>3768</td>\n",
       "    </tr>\n",
       "  </tbody>\n",
       "</table>\n",
       "</div>"
      ],
      "text/plain": [
       "   main_category  count\n",
       "0   Film & Video  63585\n",
       "1          Music  51918\n",
       "2     Publishing  39874\n",
       "3          Games  35231\n",
       "4     Technology  32569\n",
       "5         Design  30070\n",
       "6            Art  28153\n",
       "7           Food  24602\n",
       "8        Fashion  22816\n",
       "9        Theater  10913\n",
       "10        Comics  10819\n",
       "11   Photography  10779\n",
       "12        Crafts   8809\n",
       "13    Journalism   4755\n",
       "14         Dance   3768"
      ]
     },
     "execution_count": 14,
     "metadata": {},
     "output_type": "execute_result"
    }
   ],
   "source": [
    "# convert value count to df\n",
    "df_main_cat_counts = df.main_category.value_counts().reset_index()\n",
    "df_main_cat_counts.columns = ['main_category','count']\n",
    "df_main_cat_counts"
   ]
  },
  {
   "cell_type": "code",
   "execution_count": 15,
   "metadata": {},
   "outputs": [],
   "source": [
    "# set grid style\n",
    "sns.set_style('darkgrid')"
   ]
  },
  {
   "cell_type": "code",
   "execution_count": 16,
   "metadata": {},
   "outputs": [
    {
     "data": {
      "image/png": "[encoded data removed]",
      "text/plain": [
       "<Figure size 864x360 with 1 Axes>"
      ]
     },
     "metadata": {},
     "output_type": "display_data"
    }
   ],
   "source": [
    "# plot percent of projects in each main category\n",
    "heights = df_main_cat_counts['count']/len(df) *100\n",
    "ind = np.arange(0,15)\n",
    "labels = df_main_cat_counts['main_category'].values.tolist()\n",
    "\n",
    "ind = np.arange(1,16)\n",
    "width=0.4\n",
    "\n",
    "plt.figure(figsize=(12,5))\n",
    "plt.bar(ind, heights, width)\n",
    "plt.xticks(ind, labels, rotation='vertical', size=15)\n",
    "plt.yticks(size=15)\n",
    "plt.ylabel('%', size=15)\n",
    "plt.title('Percent of projects in each main category', size=18)\n",
    "\n",
    "# save image\n",
    "plt.savefig('category_percents.png', bbox_inches='tight')"
   ]
  },
  {
   "cell_type": "markdown",
   "metadata": {},
   "source": [
    "We can see that Film & Video and Music were the most common main categories, while Dance and Journalism were the least common"
   ]
  },
  {
   "cell_type": "markdown",
   "metadata": {},
   "source": [
    "Let's take a look now at the state of the projects to evaluate how many were successful and how many failed."
   ]
  },
  {
   "cell_type": "code",
   "execution_count": 17,
   "metadata": {},
   "outputs": [
    {
     "data": {
      "text/plain": [
       "failed        197719\n",
       "successful    133956\n",
       "canceled       38779\n",
       "undefined       3562\n",
       "live            2799\n",
       "suspended       1846\n",
       "Name: state, dtype: int64"
      ]
     },
     "execution_count": 17,
     "metadata": {},
     "output_type": "execute_result"
    }
   ],
   "source": [
    "df.state.value_counts()"
   ]
  },
  {
   "cell_type": "code",
   "execution_count": 18,
   "metadata": {},
   "outputs": [
    {
     "name": "stdout",
     "output_type": "stream",
     "text": [
      "40.39% of completed projects were successful.\n",
      "59.61% of completed projects failed.\n"
     ]
    }
   ],
   "source": [
    "# disregard live, suspended, undefined, and canceled ones for now\n",
    "df_completed = df[(df.state == 'successful') | (df.state == 'failed')]\n",
    "\n",
    "perc_success = len(df_completed[df_completed.state == 'successful']) / len(df_completed) *100\n",
    "perc_fail = 100 - perc_success\n",
    "\n",
    "print('{:.2f}% of completed projects were successful.'.format(perc_success))\n",
    "print('{:.2f}% of completed projects failed.'.format(perc_fail))"
   ]
  },
  {
   "cell_type": "markdown",
   "metadata": {},
   "source": [
    "Let's take a quick look at how the rest of the data breaks down by project state. I'll look at the median values since there seem to be a lot of outliers based on the descriptive statistics above."
   ]
  },
  {
   "cell_type": "code",
   "execution_count": 19,
   "metadata": {
    "scrolled": true
   },
   "outputs": [
    {
     "data": {
      "text/html": [
       "<div>\n",
       "<style scoped>\n",
       "    .dataframe tbody tr th:only-of-type {\n",
       "        vertical-align: middle;\n",
       "    }\n",
       "\n",
       "    .dataframe tbody tr th {\n",
       "        vertical-align: top;\n",
       "    }\n",
       "\n",
       "    .dataframe thead th {\n",
       "        text-align: right;\n",
       "    }\n",
       "</style>\n",
       "<table border=\"1\" class=\"dataframe\">\n",
       "  <thead>\n",
       "    <tr style=\"text-align: right;\">\n",
       "      <th></th>\n",
       "      <th>backers</th>\n",
       "      <th>usd_pledged_real</th>\n",
       "      <th>usd_goal_real</th>\n",
       "    </tr>\n",
       "    <tr>\n",
       "      <th>state</th>\n",
       "      <th></th>\n",
       "      <th></th>\n",
       "      <th></th>\n",
       "    </tr>\n",
       "  </thead>\n",
       "  <tbody>\n",
       "    <tr>\n",
       "      <th>canceled</th>\n",
       "      <td>3</td>\n",
       "      <td>87.00</td>\n",
       "      <td>10000.00</td>\n",
       "    </tr>\n",
       "    <tr>\n",
       "      <th>failed</th>\n",
       "      <td>3</td>\n",
       "      <td>100.00</td>\n",
       "      <td>7500.00</td>\n",
       "    </tr>\n",
       "    <tr>\n",
       "      <th>live</th>\n",
       "      <td>5</td>\n",
       "      <td>259.16</td>\n",
       "      <td>6547.09</td>\n",
       "    </tr>\n",
       "    <tr>\n",
       "      <th>successful</th>\n",
       "      <td>71</td>\n",
       "      <td>5107.25</td>\n",
       "      <td>3837.74</td>\n",
       "    </tr>\n",
       "    <tr>\n",
       "      <th>suspended</th>\n",
       "      <td>2</td>\n",
       "      <td>37.00</td>\n",
       "      <td>5000.00</td>\n",
       "    </tr>\n",
       "  </tbody>\n",
       "</table>\n",
       "</div>"
      ],
      "text/plain": [
       "            backers  usd_pledged_real  usd_goal_real\n",
       "state                                               \n",
       "canceled          3             87.00       10000.00\n",
       "failed            3            100.00        7500.00\n",
       "live              5            259.16        6547.09\n",
       "successful       71           5107.25        3837.74\n",
       "suspended         2             37.00        5000.00"
      ]
     },
     "execution_count": 19,
     "metadata": {},
     "output_type": "execute_result"
    }
   ],
   "source": [
    "df_by_state = df.groupby('state').median()\n",
    "\n",
    "df_by_state.head()"
   ]
  },
  {
   "cell_type": "markdown",
   "metadata": {},
   "source": [
    "Specifically paying attention to failed vs. successful, we can already see at first glance that the successful projects had a higher median for number of backers and pledged amount and a lower median for goal amount than the failed projects."
   ]
  },
  {
   "cell_type": "code",
   "execution_count": 20,
   "metadata": {},
   "outputs": [
    {
     "data": {
      "image/png": "[encoded data removed]",
      "text/plain": [
       "<Figure size 432x288 with 1 Axes>"
      ]
     },
     "metadata": {},
     "output_type": "display_data"
    }
   ],
   "source": [
    "# plot pledged and goal medians for failed vs. successful projects\n",
    "succ_heights = df_by_state.loc['successful'][['usd_pledged_real','usd_goal_real']].values.tolist()\n",
    "fail_heights = df_by_state.loc['failed'][['usd_pledged_real','usd_goal_real']].values.tolist()\n",
    "\n",
    "ind = np.arange(0,2)\n",
    "labels = ['Pledged USD','Goal USD']\n",
    "\n",
    "width = 0.3\n",
    "\n",
    "plt.bar(ind, succ_heights, width, color='#419df4', label='Sucessful')\n",
    "plt.bar(ind+width, fail_heights, width, color='#f49242', label='Failed')\n",
    "plt.xticks(ind+0.1, labels)\n",
    "plt.legend();"
   ]
  },
  {
   "cell_type": "markdown",
   "metadata": {},
   "source": [
    "Now I'll take a closer look at the country variable."
   ]
  },
  {
   "cell_type": "code",
   "execution_count": 21,
   "metadata": {},
   "outputs": [
    {
     "data": {
      "text/plain": [
       "US      261360\n",
       "GB       29454\n",
       "CA       12370\n",
       "AU        6616\n",
       "DE        3436\n",
       "FR        2520\n",
       "NL        2411\n",
       "IT        2369\n",
       "ES        1873\n",
       "SE        1509\n",
       "MX        1411\n",
       "NZ        1274\n",
       "DK         926\n",
       "IE         683\n",
       "CH         652\n",
       "NO         582\n",
       "BE         523\n",
       "AT         485\n",
       "HK         477\n",
       "SG         454\n",
       "N,0\"       210\n",
       "LU          57\n",
       "JP          23\n",
       "Name: country, dtype: int64"
      ]
     },
     "execution_count": 21,
     "metadata": {},
     "output_type": "execute_result"
    }
   ],
   "source": [
    "df_completed.country.value_counts()"
   ]
  },
  {
   "cell_type": "markdown",
   "metadata": {},
   "source": [
    "The 'N,0\"' value for country has 210 occurences. After googling what this means, I found that it most likely represents 'Null Island', a fictional island. Therefore, these values should be converted to null. First let me take a look at these entries."
   ]
  },
  {
   "cell_type": "code",
   "execution_count": 22,
   "metadata": {},
   "outputs": [
    {
     "data": {
      "text/html": [
       "<div>\n",
       "<style scoped>\n",
       "    .dataframe tbody tr th:only-of-type {\n",
       "        vertical-align: middle;\n",
       "    }\n",
       "\n",
       "    .dataframe tbody tr th {\n",
       "        vertical-align: top;\n",
       "    }\n",
       "\n",
       "    .dataframe thead th {\n",
       "        text-align: right;\n",
       "    }\n",
       "</style>\n",
       "<table border=\"1\" class=\"dataframe\">\n",
       "  <thead>\n",
       "    <tr style=\"text-align: right;\">\n",
       "      <th></th>\n",
       "      <th>category</th>\n",
       "      <th>main_category</th>\n",
       "      <th>currency</th>\n",
       "      <th>deadline</th>\n",
       "      <th>launched</th>\n",
       "      <th>state</th>\n",
       "      <th>backers</th>\n",
       "      <th>country</th>\n",
       "      <th>usd_pledged_real</th>\n",
       "      <th>usd_goal_real</th>\n",
       "    </tr>\n",
       "  </thead>\n",
       "  <tbody>\n",
       "    <tr>\n",
       "      <th>2457</th>\n",
       "      <td>Music</td>\n",
       "      <td>Music</td>\n",
       "      <td>USD</td>\n",
       "      <td>2016-05-26</td>\n",
       "      <td>2016-04-26 19:46:26</td>\n",
       "      <td>successful</td>\n",
       "      <td>0</td>\n",
       "      <td>N,0\"</td>\n",
       "      <td>5170.00</td>\n",
       "      <td>5000.0</td>\n",
       "    </tr>\n",
       "    <tr>\n",
       "      <th>4892</th>\n",
       "      <td>Music</td>\n",
       "      <td>Music</td>\n",
       "      <td>USD</td>\n",
       "      <td>2016-05-11</td>\n",
       "      <td>2016-04-11 19:29:17</td>\n",
       "      <td>successful</td>\n",
       "      <td>0</td>\n",
       "      <td>N,0\"</td>\n",
       "      <td>5296.00</td>\n",
       "      <td>5000.0</td>\n",
       "    </tr>\n",
       "    <tr>\n",
       "      <th>5353</th>\n",
       "      <td>Music</td>\n",
       "      <td>Music</td>\n",
       "      <td>USD</td>\n",
       "      <td>2016-05-21</td>\n",
       "      <td>2016-04-21 16:14:28</td>\n",
       "      <td>successful</td>\n",
       "      <td>0</td>\n",
       "      <td>N,0\"</td>\n",
       "      <td>5077.00</td>\n",
       "      <td>3800.0</td>\n",
       "    </tr>\n",
       "    <tr>\n",
       "      <th>5597</th>\n",
       "      <td>Music</td>\n",
       "      <td>Music</td>\n",
       "      <td>USD</td>\n",
       "      <td>2016-05-08</td>\n",
       "      <td>2016-04-04 23:32:00</td>\n",
       "      <td>successful</td>\n",
       "      <td>0</td>\n",
       "      <td>N,0\"</td>\n",
       "      <td>3502.13</td>\n",
       "      <td>3500.0</td>\n",
       "    </tr>\n",
       "    <tr>\n",
       "      <th>8260</th>\n",
       "      <td>Music</td>\n",
       "      <td>Music</td>\n",
       "      <td>USD</td>\n",
       "      <td>2016-05-01</td>\n",
       "      <td>2016-03-25 17:20:21</td>\n",
       "      <td>successful</td>\n",
       "      <td>0</td>\n",
       "      <td>N,0\"</td>\n",
       "      <td>3787.00</td>\n",
       "      <td>3500.0</td>\n",
       "    </tr>\n",
       "  </tbody>\n",
       "</table>\n",
       "</div>"
      ],
      "text/plain": [
       "     category main_category currency    deadline             launched  \\\n",
       "2457    Music         Music      USD  2016-05-26  2016-04-26 19:46:26   \n",
       "4892    Music         Music      USD  2016-05-11  2016-04-11 19:29:17   \n",
       "5353    Music         Music      USD  2016-05-21  2016-04-21 16:14:28   \n",
       "5597    Music         Music      USD  2016-05-08  2016-04-04 23:32:00   \n",
       "8260    Music         Music      USD  2016-05-01  2016-03-25 17:20:21   \n",
       "\n",
       "           state  backers country  usd_pledged_real  usd_goal_real  \n",
       "2457  successful        0    N,0\"           5170.00         5000.0  \n",
       "4892  successful        0    N,0\"           5296.00         5000.0  \n",
       "5353  successful        0    N,0\"           5077.00         3800.0  \n",
       "5597  successful        0    N,0\"           3502.13         3500.0  \n",
       "8260  successful        0    N,0\"           3787.00         3500.0  "
      ]
     },
     "execution_count": 22,
     "metadata": {},
     "output_type": "execute_result"
    }
   ],
   "source": [
    "df_completed[df_completed.country == 'N,0\"'].head()"
   ]
  },
  {
   "cell_type": "markdown",
   "metadata": {},
   "source": [
    "It looks like we can use the currency values to fill in the missing country names."
   ]
  },
  {
   "cell_type": "code",
   "execution_count": 23,
   "metadata": {},
   "outputs": [
    {
     "data": {
      "text/plain": [
       "['USD', 'GBP', 'CAD', 'EUR', 'NOK', 'DKK', 'SEK', 'AUD']"
      ]
     },
     "execution_count": 23,
     "metadata": {},
     "output_type": "execute_result"
    }
   ],
   "source": [
    "# get name of all distinct currencies in the null country entries\n",
    "null_currencies = df_completed[df_completed.country == 'N,0\"']['currency'].unique().tolist()\n",
    "null_currencies"
   ]
  },
  {
   "cell_type": "markdown",
   "metadata": {},
   "source": [
    "Based on the list above, I can use most of the currencies to fill in the missing country data. Unfortunately, I cannot do this for the entries with euro listed as their currency, since euro is the currency for multiple countries."
   ]
  },
  {
   "cell_type": "code",
   "execution_count": 24,
   "metadata": {},
   "outputs": [
    {
     "name": "stderr",
     "output_type": "stream",
     "text": [
      "/Users/cadpav/anaconda2/envs/py3/lib/python3.6/site-packages/pandas/core/generic.py:4405: SettingWithCopyWarning: \n",
      "A value is trying to be set on a copy of a slice from a DataFrame.\n",
      "Try using .loc[row_indexer,col_indexer] = value instead\n",
      "\n",
      "See the caveats in the documentation: http://pandas.pydata.org/pandas-docs/stable/indexing.html#indexing-view-versus-copy\n",
      "  self[name] = value\n"
     ]
    }
   ],
   "source": [
    "# fill missing country values using currency (except for when currency is euro)\n",
    "df_completed.country = np.where((df_completed.country == 'N,0\"') & (df_completed.currency != 'EUR'), \n",
    "                                df_completed.currency.str[:-1], df_completed.country)\n",
    "# convert remaining values of N,0\" to null\n",
    "df_completed.country = np.where(df_completed.country == 'N,0\"', None, df_completed.country)"
   ]
  },
  {
   "cell_type": "code",
   "execution_count": 25,
   "metadata": {
    "scrolled": true
   },
   "outputs": [
    {
     "data": {
      "text/plain": [
       "US     261511\n",
       "GB      29476\n",
       "CA      12375\n",
       "AU       6621\n",
       "DE       3436\n",
       "FR       2520\n",
       "NL       2411\n",
       "IT       2369\n",
       "ES       1873\n",
       "SE       1510\n",
       "MX       1411\n",
       "NZ       1274\n",
       "DK        929\n",
       "IE        683\n",
       "CH        652\n",
       "NO        584\n",
       "BE        523\n",
       "AT        485\n",
       "HK        477\n",
       "SG        454\n",
       "LU         57\n",
       "JP         23\n",
       "NaN        21\n",
       "Name: country, dtype: int64"
      ]
     },
     "execution_count": 25,
     "metadata": {},
     "output_type": "execute_result"
    }
   ],
   "source": [
    "df_completed.country.value_counts(dropna=False)"
   ]
  },
  {
   "cell_type": "markdown",
   "metadata": {},
   "source": [
    "There are still 21 missing values for country since the missing entries with euro as their currency could not be determined. Luckily this is a very small percent of the total entries, so I will go ahead and drop these rows."
   ]
  },
  {
   "cell_type": "code",
   "execution_count": 26,
   "metadata": {},
   "outputs": [],
   "source": [
    "df_completed = df_completed[df_completed.country.notnull()]"
   ]
  },
  {
   "cell_type": "code",
   "execution_count": 27,
   "metadata": {
    "scrolled": true
   },
   "outputs": [
    {
     "data": {
      "text/plain": [
       "0"
      ]
     },
     "execution_count": 27,
     "metadata": {},
     "output_type": "execute_result"
    }
   ],
   "source": [
    "# confirm\n",
    "df_completed.country.isnull().sum()"
   ]
  },
  {
   "cell_type": "markdown",
   "metadata": {},
   "source": [
    "Next I want to use the deadline and launched columns to create a duration column."
   ]
  },
  {
   "cell_type": "code",
   "execution_count": 28,
   "metadata": {},
   "outputs": [],
   "source": [
    "# convert deadline and launched columns from strings to datetime objects\n",
    "df_completed.deadline = pd.to_datetime(df_completed.deadline)\n",
    "df_completed.launched = pd.to_datetime(df_completed.launched).dt.date #drops time part\n",
    "df_completed.launched = pd.to_datetime(df_completed.launched) #convert back to datetime object\n",
    "    \n",
    "# create duration column\n",
    "df_completed['duration'] = df_completed.deadline - df_completed.launched #creates timedelta object\n",
    "# convert from timedelta to number of days\n",
    "df_completed['duration'] = df_completed['duration'].apply(lambda x: x.days)"
   ]
  },
  {
   "cell_type": "code",
   "execution_count": 29,
   "metadata": {},
   "outputs": [
    {
     "data": {
      "text/plain": [
       "0    59\n",
       "1    60\n",
       "2    45\n",
       "3    30\n",
       "5    35\n",
       "Name: duration, dtype: int64"
      ]
     },
     "execution_count": 29,
     "metadata": {},
     "output_type": "execute_result"
    }
   ],
   "source": [
    "# confirm\n",
    "df_completed.duration.head()"
   ]
  },
  {
   "cell_type": "markdown",
   "metadata": {},
   "source": [
    "Finally I want to map the values in the state column to 1 for successful and 0 for failed."
   ]
  },
  {
   "cell_type": "code",
   "execution_count": 30,
   "metadata": {
    "scrolled": true
   },
   "outputs": [],
   "source": [
    "# map successful to 1, failed to 0\n",
    "df_completed.state = df_completed.state.map({'successful':1, 'failed':0})\n",
    "\n",
    "# rename column\n",
    "df_completed.rename({'state':'succeeded'}, axis=1, inplace=True)"
   ]
  },
  {
   "cell_type": "code",
   "execution_count": 31,
   "metadata": {},
   "outputs": [
    {
     "data": {
      "text/html": [
       "<div>\n",
       "<style scoped>\n",
       "    .dataframe tbody tr th:only-of-type {\n",
       "        vertical-align: middle;\n",
       "    }\n",
       "\n",
       "    .dataframe tbody tr th {\n",
       "        vertical-align: top;\n",
       "    }\n",
       "\n",
       "    .dataframe thead th {\n",
       "        text-align: right;\n",
       "    }\n",
       "</style>\n",
       "<table border=\"1\" class=\"dataframe\">\n",
       "  <thead>\n",
       "    <tr style=\"text-align: right;\">\n",
       "      <th></th>\n",
       "      <th>category</th>\n",
       "      <th>main_category</th>\n",
       "      <th>currency</th>\n",
       "      <th>deadline</th>\n",
       "      <th>launched</th>\n",
       "      <th>succeeded</th>\n",
       "      <th>backers</th>\n",
       "      <th>country</th>\n",
       "      <th>usd_pledged_real</th>\n",
       "      <th>usd_goal_real</th>\n",
       "      <th>duration</th>\n",
       "    </tr>\n",
       "  </thead>\n",
       "  <tbody>\n",
       "    <tr>\n",
       "      <th>0</th>\n",
       "      <td>Poetry</td>\n",
       "      <td>Publishing</td>\n",
       "      <td>GBP</td>\n",
       "      <td>2015-10-09</td>\n",
       "      <td>2015-08-11</td>\n",
       "      <td>0</td>\n",
       "      <td>0</td>\n",
       "      <td>GB</td>\n",
       "      <td>0.0</td>\n",
       "      <td>1533.95</td>\n",
       "      <td>59</td>\n",
       "    </tr>\n",
       "    <tr>\n",
       "      <th>1</th>\n",
       "      <td>Narrative Film</td>\n",
       "      <td>Film &amp; Video</td>\n",
       "      <td>USD</td>\n",
       "      <td>2017-11-01</td>\n",
       "      <td>2017-09-02</td>\n",
       "      <td>0</td>\n",
       "      <td>15</td>\n",
       "      <td>US</td>\n",
       "      <td>2421.0</td>\n",
       "      <td>30000.00</td>\n",
       "      <td>60</td>\n",
       "    </tr>\n",
       "    <tr>\n",
       "      <th>2</th>\n",
       "      <td>Narrative Film</td>\n",
       "      <td>Film &amp; Video</td>\n",
       "      <td>USD</td>\n",
       "      <td>2013-02-26</td>\n",
       "      <td>2013-01-12</td>\n",
       "      <td>0</td>\n",
       "      <td>3</td>\n",
       "      <td>US</td>\n",
       "      <td>220.0</td>\n",
       "      <td>45000.00</td>\n",
       "      <td>45</td>\n",
       "    </tr>\n",
       "    <tr>\n",
       "      <th>3</th>\n",
       "      <td>Music</td>\n",
       "      <td>Music</td>\n",
       "      <td>USD</td>\n",
       "      <td>2012-04-16</td>\n",
       "      <td>2012-03-17</td>\n",
       "      <td>0</td>\n",
       "      <td>1</td>\n",
       "      <td>US</td>\n",
       "      <td>1.0</td>\n",
       "      <td>5000.00</td>\n",
       "      <td>30</td>\n",
       "    </tr>\n",
       "    <tr>\n",
       "      <th>5</th>\n",
       "      <td>Restaurants</td>\n",
       "      <td>Food</td>\n",
       "      <td>USD</td>\n",
       "      <td>2016-04-01</td>\n",
       "      <td>2016-02-26</td>\n",
       "      <td>1</td>\n",
       "      <td>224</td>\n",
       "      <td>US</td>\n",
       "      <td>52375.0</td>\n",
       "      <td>50000.00</td>\n",
       "      <td>35</td>\n",
       "    </tr>\n",
       "  </tbody>\n",
       "</table>\n",
       "</div>"
      ],
      "text/plain": [
       "         category main_category currency   deadline   launched  succeeded  \\\n",
       "0          Poetry    Publishing      GBP 2015-10-09 2015-08-11          0   \n",
       "1  Narrative Film  Film & Video      USD 2017-11-01 2017-09-02          0   \n",
       "2  Narrative Film  Film & Video      USD 2013-02-26 2013-01-12          0   \n",
       "3           Music         Music      USD 2012-04-16 2012-03-17          0   \n",
       "5     Restaurants          Food      USD 2016-04-01 2016-02-26          1   \n",
       "\n",
       "   backers country  usd_pledged_real  usd_goal_real  duration  \n",
       "0        0      GB               0.0        1533.95        59  \n",
       "1       15      US            2421.0       30000.00        60  \n",
       "2        3      US             220.0       45000.00        45  \n",
       "3        1      US               1.0        5000.00        30  \n",
       "5      224      US           52375.0       50000.00        35  "
      ]
     },
     "execution_count": 31,
     "metadata": {},
     "output_type": "execute_result"
    }
   ],
   "source": [
    "df_completed.head()"
   ]
  },
  {
   "cell_type": "markdown",
   "metadata": {},
   "source": [
    "### Explore Question 1: Which categories have the best and worst success rates?"
   ]
  },
  {
   "cell_type": "markdown",
   "metadata": {},
   "source": [
    "Now I'll take a look at how successes and failures break down by category."
   ]
  },
  {
   "cell_type": "code",
   "execution_count": 32,
   "metadata": {},
   "outputs": [],
   "source": [
    "def plot_success_rate(df, col, xlabel=''):\n",
    "    \"\"\"\n",
    "    Creates a table and plot of the success and failure rates grouped by \n",
    "    the specified column in the dataframe.\n",
    "    \n",
    "    INPUTS: dataframe, column to group by\n",
    "    OUTPUTS: table of success rates and failure rates, sorted by success rate, plot of success rates\n",
    "    \"\"\"\n",
    "    succ_rate = df.groupby(col).mean()['succeeded'] *100\n",
    "    fail_rate = 100 - succ_rate\n",
    "    \n",
    "    results = pd.concat([succ_rate, fail_rate], axis=1)\n",
    "    results.columns = ['success_rate', 'failed_rate']\n",
    "    \n",
    "    results = results.sort_values(by='success_rate', ascending=False)\n",
    "    \n",
    "    # plot success rate\n",
    "    heights = results.success_rate.values.tolist()\n",
    "\n",
    "    ind = np.arange(0,len(results))\n",
    "    labels = results.index.values.tolist()\n",
    "\n",
    "    width = 0.4\n",
    "\n",
    "    plt.figure(figsize=(12,5))\n",
    "    plt.bar(ind, heights, width)\n",
    "    plt.xticks(ind, labels, rotation=45, size=15)\n",
    "    plt.yticks(size=15)\n",
    "    plt.ylabel('% of successful projects', size=15)\n",
    "    plt.xlabel(xlabel, size=15)\n",
    "    \n",
    "    title = 'Success rate broken down by {}'.format(col)\n",
    "    plt.title(title, size=18);\n",
    "\n",
    "    return results"
   ]
  },
  {
   "cell_type": "code",
   "execution_count": 33,
   "metadata": {},
   "outputs": [
    {
     "name": "stdout",
     "output_type": "stream",
     "text": [
      "               success_rate  failed_rate\n",
      "main_category                           \n",
      "Dance             65.435209    34.564791\n",
      "Theater           63.796134    36.203866\n",
      "Comics            59.141527    40.858473\n",
      "Music             52.665491    47.334509\n",
      "Art               44.889045    55.110955\n",
      "Games             43.890467    56.109533\n",
      "Film & Video      41.792127    58.207873\n",
      "Design            41.592083    58.407917\n",
      "Publishing        34.707526    65.292474\n",
      "Photography       34.110847    65.889153\n",
      "Fashion           28.284616    71.715384\n",
      "Food              27.591367    72.408633\n",
      "Crafts            27.052955    72.947045\n",
      "Journalism        24.397300    75.602700\n",
      "Technology        23.785582    76.214418\n"
     ]
    },
    {
     "data": {
      "image/png": "[encoded data removed]",
      "text/plain": [
       "<Figure size 864x360 with 1 Axes>"
      ]
     },
     "metadata": {},
     "output_type": "display_data"
    }
   ],
   "source": [
    "results = plot_success_rate(df_completed, 'main_category')\n",
    "plt.savefig('category_success.png', bbox_inches='tight')\n",
    "\n",
    "print(results)"
   ]
  },
  {
   "cell_type": "markdown",
   "metadata": {},
   "source": [
    "The four categories that had the highest proportion of successful projects (greater than 50%) were Dance, Theater, Comics, and Music. All other categories had a higher percentage of failed projects than successful projects (i.e. less than a 50% success rate). Technology had the lowest proportion of successful projects, at about 24%."
   ]
  },
  {
   "cell_type": "markdown",
   "metadata": {},
   "source": [
    "But what if categories with the lowest success rate end to have higher goal amounts and THAT is what affects the outcome more? Let's look at this by plotting the median goal amount for each category (I want to look at median instead of mean since there are a lot of high outliers for goal amount)."
   ]
  },
  {
   "cell_type": "code",
   "execution_count": 34,
   "metadata": {},
   "outputs": [],
   "source": [
    "# create df of success rate for each category\n",
    "succ_rate = df_completed.groupby('main_category').mean()['succeeded'] *100\n",
    "succ_rate = succ_rate.reset_index().sort_values(by='succeeded', ascending=False)"
   ]
  },
  {
   "cell_type": "code",
   "execution_count": 35,
   "metadata": {},
   "outputs": [
    {
     "data": {
      "text/plain": [
       "['Dance',\n",
       " 'Theater',\n",
       " 'Comics',\n",
       " 'Music',\n",
       " 'Art',\n",
       " 'Games',\n",
       " 'Film & Video',\n",
       " 'Design',\n",
       " 'Publishing',\n",
       " 'Photography',\n",
       " 'Fashion',\n",
       " 'Food',\n",
       " 'Crafts',\n",
       " 'Journalism',\n",
       " 'Technology']"
      ]
     },
     "execution_count": 35,
     "metadata": {},
     "output_type": "execute_result"
    }
   ],
   "source": [
    "# get list of categories in order\n",
    "categories_ordered = succ_rate.main_category.values.tolist()\n",
    "categories_ordered"
   ]
  },
  {
   "cell_type": "code",
   "execution_count": 36,
   "metadata": {},
   "outputs": [
    {
     "data": {
      "text/html": [
       "<div>\n",
       "<style scoped>\n",
       "    .dataframe tbody tr th:only-of-type {\n",
       "        vertical-align: middle;\n",
       "    }\n",
       "\n",
       "    .dataframe tbody tr th {\n",
       "        vertical-align: top;\n",
       "    }\n",
       "\n",
       "    .dataframe thead th {\n",
       "        text-align: right;\n",
       "    }\n",
       "</style>\n",
       "<table border=\"1\" class=\"dataframe\">\n",
       "  <thead>\n",
       "    <tr style=\"text-align: right;\">\n",
       "      <th></th>\n",
       "      <th>succeeded</th>\n",
       "      <th>backers</th>\n",
       "      <th>usd_pledged_real</th>\n",
       "      <th>usd_goal_real</th>\n",
       "      <th>duration</th>\n",
       "    </tr>\n",
       "    <tr>\n",
       "      <th>main_category</th>\n",
       "      <th></th>\n",
       "      <th></th>\n",
       "      <th></th>\n",
       "      <th></th>\n",
       "      <th></th>\n",
       "    </tr>\n",
       "  </thead>\n",
       "  <tbody>\n",
       "    <tr>\n",
       "      <th>Art</th>\n",
       "      <td>0</td>\n",
       "      <td>12</td>\n",
       "      <td>537.000</td>\n",
       "      <td>2966.70</td>\n",
       "      <td>30</td>\n",
       "    </tr>\n",
       "    <tr>\n",
       "      <th>Comics</th>\n",
       "      <td>1</td>\n",
       "      <td>46</td>\n",
       "      <td>1735.000</td>\n",
       "      <td>3500.00</td>\n",
       "      <td>30</td>\n",
       "    </tr>\n",
       "    <tr>\n",
       "      <th>Crafts</th>\n",
       "      <td>0</td>\n",
       "      <td>4</td>\n",
       "      <td>109.630</td>\n",
       "      <td>2176.06</td>\n",
       "      <td>30</td>\n",
       "    </tr>\n",
       "    <tr>\n",
       "      <th>Dance</th>\n",
       "      <td>1</td>\n",
       "      <td>29</td>\n",
       "      <td>2040.000</td>\n",
       "      <td>3200.00</td>\n",
       "      <td>30</td>\n",
       "    </tr>\n",
       "    <tr>\n",
       "      <th>Design</th>\n",
       "      <td>0</td>\n",
       "      <td>34</td>\n",
       "      <td>2279.000</td>\n",
       "      <td>10000.00</td>\n",
       "      <td>30</td>\n",
       "    </tr>\n",
       "    <tr>\n",
       "      <th>Fashion</th>\n",
       "      <td>0</td>\n",
       "      <td>6</td>\n",
       "      <td>293.945</td>\n",
       "      <td>5500.00</td>\n",
       "      <td>30</td>\n",
       "    </tr>\n",
       "    <tr>\n",
       "      <th>Film &amp; Video</th>\n",
       "      <td>0</td>\n",
       "      <td>15</td>\n",
       "      <td>963.680</td>\n",
       "      <td>6400.00</td>\n",
       "      <td>30</td>\n",
       "    </tr>\n",
       "    <tr>\n",
       "      <th>Food</th>\n",
       "      <td>0</td>\n",
       "      <td>7</td>\n",
       "      <td>323.000</td>\n",
       "      <td>10000.00</td>\n",
       "      <td>30</td>\n",
       "    </tr>\n",
       "    <tr>\n",
       "      <th>Games</th>\n",
       "      <td>0</td>\n",
       "      <td>40</td>\n",
       "      <td>1743.000</td>\n",
       "      <td>7500.00</td>\n",
       "      <td>30</td>\n",
       "    </tr>\n",
       "    <tr>\n",
       "      <th>Journalism</th>\n",
       "      <td>0</td>\n",
       "      <td>3</td>\n",
       "      <td>74.595</td>\n",
       "      <td>5000.00</td>\n",
       "      <td>30</td>\n",
       "    </tr>\n",
       "    <tr>\n",
       "      <th>Music</th>\n",
       "      <td>1</td>\n",
       "      <td>22</td>\n",
       "      <td>1199.100</td>\n",
       "      <td>4000.00</td>\n",
       "      <td>30</td>\n",
       "    </tr>\n",
       "    <tr>\n",
       "      <th>Photography</th>\n",
       "      <td>0</td>\n",
       "      <td>7</td>\n",
       "      <td>321.000</td>\n",
       "      <td>3925.00</td>\n",
       "      <td>30</td>\n",
       "    </tr>\n",
       "    <tr>\n",
       "      <th>Publishing</th>\n",
       "      <td>0</td>\n",
       "      <td>9</td>\n",
       "      <td>381.000</td>\n",
       "      <td>4995.07</td>\n",
       "      <td>30</td>\n",
       "    </tr>\n",
       "    <tr>\n",
       "      <th>Technology</th>\n",
       "      <td>0</td>\n",
       "      <td>7</td>\n",
       "      <td>360.000</td>\n",
       "      <td>18000.00</td>\n",
       "      <td>30</td>\n",
       "    </tr>\n",
       "    <tr>\n",
       "      <th>Theater</th>\n",
       "      <td>1</td>\n",
       "      <td>27</td>\n",
       "      <td>1728.500</td>\n",
       "      <td>3101.35</td>\n",
       "      <td>30</td>\n",
       "    </tr>\n",
       "  </tbody>\n",
       "</table>\n",
       "</div>"
      ],
      "text/plain": [
       "               succeeded  backers  usd_pledged_real  usd_goal_real  duration\n",
       "main_category                                                               \n",
       "Art                    0       12           537.000        2966.70        30\n",
       "Comics                 1       46          1735.000        3500.00        30\n",
       "Crafts                 0        4           109.630        2176.06        30\n",
       "Dance                  1       29          2040.000        3200.00        30\n",
       "Design                 0       34          2279.000       10000.00        30\n",
       "Fashion                0        6           293.945        5500.00        30\n",
       "Film & Video           0       15           963.680        6400.00        30\n",
       "Food                   0        7           323.000       10000.00        30\n",
       "Games                  0       40          1743.000        7500.00        30\n",
       "Journalism             0        3            74.595        5000.00        30\n",
       "Music                  1       22          1199.100        4000.00        30\n",
       "Photography            0        7           321.000        3925.00        30\n",
       "Publishing             0        9           381.000        4995.07        30\n",
       "Technology             0        7           360.000       18000.00        30\n",
       "Theater                1       27          1728.500        3101.35        30"
      ]
     },
     "execution_count": 36,
     "metadata": {},
     "output_type": "execute_result"
    }
   ],
   "source": [
    "# create df of median values grouped by category\n",
    "median_by_cat = df_completed.groupby('main_category').median()\n",
    "median_by_cat"
   ]
  },
  {
   "cell_type": "code",
   "execution_count": 37,
   "metadata": {},
   "outputs": [
    {
     "name": "stderr",
     "output_type": "stream",
     "text": [
      "/Users/cadpav/anaconda2/envs/py3/lib/python3.6/site-packages/ipykernel/__main__.py:2: FutureWarning: '.reindex_axis' is deprecated and will be removed in a future version. Use '.reindex' instead.\n",
      "  from ipykernel import kernelapp as app\n"
     ]
    },
    {
     "data": {
      "text/html": [
       "<div>\n",
       "<style scoped>\n",
       "    .dataframe tbody tr th:only-of-type {\n",
       "        vertical-align: middle;\n",
       "    }\n",
       "\n",
       "    .dataframe tbody tr th {\n",
       "        vertical-align: top;\n",
       "    }\n",
       "\n",
       "    .dataframe thead th {\n",
       "        text-align: right;\n",
       "    }\n",
       "</style>\n",
       "<table border=\"1\" class=\"dataframe\">\n",
       "  <thead>\n",
       "    <tr style=\"text-align: right;\">\n",
       "      <th></th>\n",
       "      <th>succeeded</th>\n",
       "      <th>backers</th>\n",
       "      <th>usd_pledged_real</th>\n",
       "      <th>usd_goal_real</th>\n",
       "      <th>duration</th>\n",
       "    </tr>\n",
       "    <tr>\n",
       "      <th>main_category</th>\n",
       "      <th></th>\n",
       "      <th></th>\n",
       "      <th></th>\n",
       "      <th></th>\n",
       "      <th></th>\n",
       "    </tr>\n",
       "  </thead>\n",
       "  <tbody>\n",
       "    <tr>\n",
       "      <th>Dance</th>\n",
       "      <td>1</td>\n",
       "      <td>29</td>\n",
       "      <td>2040.000</td>\n",
       "      <td>3200.00</td>\n",
       "      <td>30</td>\n",
       "    </tr>\n",
       "    <tr>\n",
       "      <th>Theater</th>\n",
       "      <td>1</td>\n",
       "      <td>27</td>\n",
       "      <td>1728.500</td>\n",
       "      <td>3101.35</td>\n",
       "      <td>30</td>\n",
       "    </tr>\n",
       "    <tr>\n",
       "      <th>Comics</th>\n",
       "      <td>1</td>\n",
       "      <td>46</td>\n",
       "      <td>1735.000</td>\n",
       "      <td>3500.00</td>\n",
       "      <td>30</td>\n",
       "    </tr>\n",
       "    <tr>\n",
       "      <th>Music</th>\n",
       "      <td>1</td>\n",
       "      <td>22</td>\n",
       "      <td>1199.100</td>\n",
       "      <td>4000.00</td>\n",
       "      <td>30</td>\n",
       "    </tr>\n",
       "    <tr>\n",
       "      <th>Art</th>\n",
       "      <td>0</td>\n",
       "      <td>12</td>\n",
       "      <td>537.000</td>\n",
       "      <td>2966.70</td>\n",
       "      <td>30</td>\n",
       "    </tr>\n",
       "    <tr>\n",
       "      <th>Games</th>\n",
       "      <td>0</td>\n",
       "      <td>40</td>\n",
       "      <td>1743.000</td>\n",
       "      <td>7500.00</td>\n",
       "      <td>30</td>\n",
       "    </tr>\n",
       "    <tr>\n",
       "      <th>Film &amp; Video</th>\n",
       "      <td>0</td>\n",
       "      <td>15</td>\n",
       "      <td>963.680</td>\n",
       "      <td>6400.00</td>\n",
       "      <td>30</td>\n",
       "    </tr>\n",
       "    <tr>\n",
       "      <th>Design</th>\n",
       "      <td>0</td>\n",
       "      <td>34</td>\n",
       "      <td>2279.000</td>\n",
       "      <td>10000.00</td>\n",
       "      <td>30</td>\n",
       "    </tr>\n",
       "    <tr>\n",
       "      <th>Publishing</th>\n",
       "      <td>0</td>\n",
       "      <td>9</td>\n",
       "      <td>381.000</td>\n",
       "      <td>4995.07</td>\n",
       "      <td>30</td>\n",
       "    </tr>\n",
       "    <tr>\n",
       "      <th>Photography</th>\n",
       "      <td>0</td>\n",
       "      <td>7</td>\n",
       "      <td>321.000</td>\n",
       "      <td>3925.00</td>\n",
       "      <td>30</td>\n",
       "    </tr>\n",
       "    <tr>\n",
       "      <th>Fashion</th>\n",
       "      <td>0</td>\n",
       "      <td>6</td>\n",
       "      <td>293.945</td>\n",
       "      <td>5500.00</td>\n",
       "      <td>30</td>\n",
       "    </tr>\n",
       "    <tr>\n",
       "      <th>Food</th>\n",
       "      <td>0</td>\n",
       "      <td>7</td>\n",
       "      <td>323.000</td>\n",
       "      <td>10000.00</td>\n",
       "      <td>30</td>\n",
       "    </tr>\n",
       "    <tr>\n",
       "      <th>Crafts</th>\n",
       "      <td>0</td>\n",
       "      <td>4</td>\n",
       "      <td>109.630</td>\n",
       "      <td>2176.06</td>\n",
       "      <td>30</td>\n",
       "    </tr>\n",
       "    <tr>\n",
       "      <th>Journalism</th>\n",
       "      <td>0</td>\n",
       "      <td>3</td>\n",
       "      <td>74.595</td>\n",
       "      <td>5000.00</td>\n",
       "      <td>30</td>\n",
       "    </tr>\n",
       "    <tr>\n",
       "      <th>Technology</th>\n",
       "      <td>0</td>\n",
       "      <td>7</td>\n",
       "      <td>360.000</td>\n",
       "      <td>18000.00</td>\n",
       "      <td>30</td>\n",
       "    </tr>\n",
       "  </tbody>\n",
       "</table>\n",
       "</div>"
      ],
      "text/plain": [
       "               succeeded  backers  usd_pledged_real  usd_goal_real  duration\n",
       "main_category                                                               \n",
       "Dance                  1       29          2040.000        3200.00        30\n",
       "Theater                1       27          1728.500        3101.35        30\n",
       "Comics                 1       46          1735.000        3500.00        30\n",
       "Music                  1       22          1199.100        4000.00        30\n",
       "Art                    0       12           537.000        2966.70        30\n",
       "Games                  0       40          1743.000        7500.00        30\n",
       "Film & Video           0       15           963.680        6400.00        30\n",
       "Design                 0       34          2279.000       10000.00        30\n",
       "Publishing             0        9           381.000        4995.07        30\n",
       "Photography            0        7           321.000        3925.00        30\n",
       "Fashion                0        6           293.945        5500.00        30\n",
       "Food                   0        7           323.000       10000.00        30\n",
       "Crafts                 0        4           109.630        2176.06        30\n",
       "Journalism             0        3            74.595        5000.00        30\n",
       "Technology             0        7           360.000       18000.00        30"
      ]
     },
     "execution_count": 37,
     "metadata": {},
     "output_type": "execute_result"
    }
   ],
   "source": [
    "# reorder the categories to the be same as success rate df\n",
    "median_by_cat = median_by_cat.reindex_axis(categories_ordered, axis=0)\n",
    "median_by_cat"
   ]
  },
  {
   "cell_type": "code",
   "execution_count": 38,
   "metadata": {},
   "outputs": [
    {
     "data": {
      "image/png": "[encoded data removed]",
      "text/plain": [
       "<Figure size 864x360 with 1 Axes>"
      ]
     },
     "metadata": {},
     "output_type": "display_data"
    }
   ],
   "source": [
    "# plot median goal amount per category\n",
    "heights = median_by_cat.usd_goal_real.values.tolist()\n",
    "\n",
    "ind = np.arange(0,len(median_by_cat))\n",
    "labels = median_by_cat.index.values.tolist()\n",
    "\n",
    "width = 0.4\n",
    "\n",
    "plt.figure(figsize=(12,5))\n",
    "plt.bar(ind, heights, width, color = '#f49242')\n",
    "plt.xticks(ind, labels, rotation=45, size=15)\n",
    "plt.yticks(size=15)\n",
    "plt.ylabel('Median Goal Amount (USD)', size=15)\n",
    "    \n",
    "plt.title('Median USD goal amount by main category', size=18);\n",
    "plt.savefig('category_goal.png', bbox_inches='tight')\n"
   ]
  },
  {
   "cell_type": "markdown",
   "metadata": {},
   "source": [
    "This looks like it could be the case for Technology, which does have the highest median goal amount seen in the graph above to the right (with the categories plotted in the same order as the graph on the left). However, this is not always the case - for example, Crafts has the lowest median goal amount but still has one of the lowest success rates."
   ]
  },
  {
   "cell_type": "markdown",
   "metadata": {},
   "source": [
    "### Explore Question 2: How does success rate relate to goal amount?"
   ]
  },
  {
   "cell_type": "markdown",
   "metadata": {},
   "source": [
    "First I'll look at the median goal amounts for the successful and failed projects, and also plot goal against 'succeeded' on a category plot."
   ]
  },
  {
   "cell_type": "code",
   "execution_count": 39,
   "metadata": {
    "scrolled": true
   },
   "outputs": [
    {
     "data": {
      "text/html": [
       "<div>\n",
       "<style scoped>\n",
       "    .dataframe tbody tr th:only-of-type {\n",
       "        vertical-align: middle;\n",
       "    }\n",
       "\n",
       "    .dataframe tbody tr th {\n",
       "        vertical-align: top;\n",
       "    }\n",
       "\n",
       "    .dataframe thead th {\n",
       "        text-align: right;\n",
       "    }\n",
       "</style>\n",
       "<table border=\"1\" class=\"dataframe\">\n",
       "  <thead>\n",
       "    <tr style=\"text-align: right;\">\n",
       "      <th></th>\n",
       "      <th>succeeeded</th>\n",
       "      <th>median_goal_USD</th>\n",
       "    </tr>\n",
       "  </thead>\n",
       "  <tbody>\n",
       "    <tr>\n",
       "      <th>0</th>\n",
       "      <td>0</td>\n",
       "      <td>7500.00</td>\n",
       "    </tr>\n",
       "    <tr>\n",
       "      <th>1</th>\n",
       "      <td>1</td>\n",
       "      <td>3836.92</td>\n",
       "    </tr>\n",
       "  </tbody>\n",
       "</table>\n",
       "</div>"
      ],
      "text/plain": [
       "   succeeeded  median_goal_USD\n",
       "0           0          7500.00\n",
       "1           1          3836.92"
      ]
     },
     "execution_count": 39,
     "metadata": {},
     "output_type": "execute_result"
    }
   ],
   "source": [
    "# group by succeeded and get median of goal\n",
    "median_goal = df_completed.groupby('succeeded').median()['usd_goal_real'].reset_index()\n",
    "median_goal.columns = ['succeeeded','median_goal_USD']\n",
    "median_goal"
   ]
  },
  {
   "cell_type": "code",
   "execution_count": 40,
   "metadata": {},
   "outputs": [
    {
     "data": {
      "image/png": "[encoded data removed]",
      "text/plain": [
       "<Figure size 360x360 with 1 Axes>"
      ]
     },
     "metadata": {},
     "output_type": "display_data"
    }
   ],
   "source": [
    "# create category plot\n",
    "sns.catplot(x=\"succeeded\", y=\"usd_goal_real\", data=df_completed);"
   ]
  },
  {
   "cell_type": "markdown",
   "metadata": {},
   "source": [
    "As found earlier, the median goal amount for the failed projects is almost twice as high as that of the successful projects. We can also see from the plot that the goal spread for the failed projects is much wider."
   ]
  },
  {
   "cell_type": "markdown",
   "metadata": {},
   "source": [
    "Now I want to create a new column to bucket the goals into ranges. First I'll look again at the descriptive statistics for usd_goal_real so that I can choose appropriate bin values."
   ]
  },
  {
   "cell_type": "code",
   "execution_count": 41,
   "metadata": {
    "scrolled": true
   },
   "outputs": [
    {
     "data": {
      "text/plain": [
       "count    3.316540e+05\n",
       "mean     4.151218e+04\n",
       "std      1.108965e+06\n",
       "min      1.000000e-02\n",
       "25%      2.000000e+03\n",
       "50%      5.000000e+03\n",
       "75%      1.500000e+04\n",
       "max      1.663614e+08\n",
       "Name: usd_goal_real, dtype: float64"
      ]
     },
     "execution_count": 41,
     "metadata": {},
     "output_type": "execute_result"
    }
   ],
   "source": [
    "df_completed.usd_goal_real.describe()"
   ]
  },
  {
   "cell_type": "code",
   "execution_count": 42,
   "metadata": {},
   "outputs": [],
   "source": [
    "# specify bin values\n",
    "bin_values = [0,5000,10000,15000,20000,25000,50000, df_completed.usd_goal_real.max()]\n",
    "\n",
    "# cut goal amount into buckets based on bin values\n",
    "df_completed['usd_goal_bucket'] = pd.cut(df_completed.usd_goal_real, bin_values)"
   ]
  },
  {
   "cell_type": "code",
   "execution_count": 43,
   "metadata": {
    "scrolled": false
   },
   "outputs": [
    {
     "data": {
      "text/plain": [
       "(0.0, 5000.0]              167910\n",
       "(5000.0, 10000.0]           59217\n",
       "(25000.0, 50000.0]          26779\n",
       "(10000.0, 15000.0]          25130\n",
       "(50000.0, 166361390.71]     22932\n",
       "(15000.0, 20000.0]          17618\n",
       "(20000.0, 25000.0]          12068\n",
       "Name: usd_goal_bucket, dtype: int64"
      ]
     },
     "execution_count": 43,
     "metadata": {},
     "output_type": "execute_result"
    }
   ],
   "source": [
    "# get value counts for goal bucket column\n",
    "df_completed.usd_goal_bucket.value_counts()"
   ]
  },
  {
   "cell_type": "markdown",
   "metadata": {},
   "source": [
    "From these counts, we can see that the majority of the goal amounts are in the 0 to $5000 range. Now I can see how the success rate breaks down by these goal buckets."
   ]
  },
  {
   "cell_type": "code",
   "execution_count": 44,
   "metadata": {},
   "outputs": [
    {
     "name": "stdout",
     "output_type": "stream",
     "text": [
      "                         success_rate  failed_rate\n",
      "usd_goal_bucket                                   \n",
      "(0.0, 5000.0]               48.983384    51.016616\n",
      "(5000.0, 10000.0]           39.468396    60.531604\n",
      "(10000.0, 15000.0]          37.405491    62.594509\n",
      "(15000.0, 20000.0]          32.546260    67.453740\n",
      "(20000.0, 25000.0]          28.588001    71.411999\n",
      "(25000.0, 50000.0]          25.202584    74.797416\n",
      "(50000.0, 166361390.71]     13.077795    86.922205\n"
     ]
    },
    {
     "data": {
      "image/png": "[encoded data removed]",
      "text/plain": [
       "<Figure size 864x360 with 1 Axes>"
      ]
     },
     "metadata": {},
     "output_type": "display_data"
    }
   ],
   "source": [
    "results = plot_success_rate(df_completed, 'usd_goal_bucket', xlabel='Goal range in USD')\n",
    "plt.savefig('goal_success.png', bbox_inches='tight')\n",
    "\n",
    "print(results)"
   ]
  },
  {
   "cell_type": "markdown",
   "metadata": {},
   "source": [
    "From the plot above, we can see that with increasing goal buckets, the proportion of successful projects decreases. The lowest bucket (0 to $5000) has almost a 50% success rate, while the highest bucket has only a 13% success rate."
   ]
  },
  {
   "cell_type": "markdown",
   "metadata": {},
   "source": [
    "### Explore Question 3: Does duration of a project influence success rate?"
   ]
  },
  {
   "cell_type": "code",
   "execution_count": 45,
   "metadata": {},
   "outputs": [
    {
     "data": {
      "text/html": [
       "<div>\n",
       "<style scoped>\n",
       "    .dataframe tbody tr th:only-of-type {\n",
       "        vertical-align: middle;\n",
       "    }\n",
       "\n",
       "    .dataframe tbody tr th {\n",
       "        vertical-align: top;\n",
       "    }\n",
       "\n",
       "    .dataframe thead th {\n",
       "        text-align: right;\n",
       "    }\n",
       "</style>\n",
       "<table border=\"1\" class=\"dataframe\">\n",
       "  <thead>\n",
       "    <tr style=\"text-align: right;\">\n",
       "      <th></th>\n",
       "      <th>succeeeded</th>\n",
       "      <th>avg_duration</th>\n",
       "    </tr>\n",
       "  </thead>\n",
       "  <tbody>\n",
       "    <tr>\n",
       "      <th>0</th>\n",
       "      <td>0</td>\n",
       "      <td>35.173433</td>\n",
       "    </tr>\n",
       "    <tr>\n",
       "      <th>1</th>\n",
       "      <td>1</td>\n",
       "      <td>32.156496</td>\n",
       "    </tr>\n",
       "  </tbody>\n",
       "</table>\n",
       "</div>"
      ],
      "text/plain": [
       "   succeeeded  avg_duration\n",
       "0           0     35.173433\n",
       "1           1     32.156496"
      ]
     },
     "execution_count": 45,
     "metadata": {},
     "output_type": "execute_result"
    }
   ],
   "source": [
    "# group by succeeded and get average duration\n",
    "average_goal = df_completed.groupby('succeeded').mean()['duration'].reset_index()\n",
    "average_goal.columns = ['succeeeded','avg_duration']\n",
    "average_goal"
   ]
  },
  {
   "cell_type": "code",
   "execution_count": 46,
   "metadata": {
    "scrolled": true
   },
   "outputs": [
    {
     "data": {
      "image/png": "[encoded data removed]",
      "text/plain": [
       "<Figure size 360x360 with 1 Axes>"
      ]
     },
     "metadata": {},
     "output_type": "display_data"
    }
   ],
   "source": [
    "# create category plot\n",
    "sns.catplot(x=\"succeeded\", y=\"duration\", data=df_completed);"
   ]
  },
  {
   "cell_type": "markdown",
   "metadata": {},
   "source": [
    "The average durations for the failed and succeeded projects are similar, only about 3 days off from each other. From the plot above we can see that the data seems to be more uniform across duration lengths for both the failed and successful projects."
   ]
  },
  {
   "cell_type": "code",
   "execution_count": 47,
   "metadata": {
    "scrolled": true
   },
   "outputs": [
    {
     "data": {
      "text/plain": [
       "92"
      ]
     },
     "execution_count": 47,
     "metadata": {},
     "output_type": "execute_result"
    }
   ],
   "source": [
    "# get number of unique duration lengths\n",
    "df_completed.duration.nunique()"
   ]
  },
  {
   "cell_type": "code",
   "execution_count": 48,
   "metadata": {},
   "outputs": [
    {
     "data": {
      "text/plain": [
       "30    148468\n",
       "60     27969\n",
       "45     15240\n",
       "31     11718\n",
       "35      8620\n",
       "40      8594\n",
       "32      6465\n",
       "21      6124\n",
       "20      6060\n",
       "29      5540\n",
       "25      5518\n",
       "33      5070\n",
       "15      4860\n",
       "28      4848\n",
       "14      3848\n",
       "34      3210\n",
       "36      3016\n",
       "27      2654\n",
       "22      2461\n",
       "26      2373\n",
       "24      2304\n",
       "37      2279\n",
       "50      2193\n",
       "10      2081\n",
       "23      2062\n",
       "38      1908\n",
       "46      1806\n",
       "42      1731\n",
       "39      1682\n",
       "7       1642\n",
       "       ...  \n",
       "3        194\n",
       "2        129\n",
       "63       124\n",
       "66       107\n",
       "88       105\n",
       "65       105\n",
       "70        98\n",
       "1         92\n",
       "64        83\n",
       "71        82\n",
       "75        81\n",
       "76        75\n",
       "72        74\n",
       "67        69\n",
       "68        61\n",
       "87        61\n",
       "80        59\n",
       "86        59\n",
       "69        57\n",
       "85        56\n",
       "81        49\n",
       "78        49\n",
       "73        49\n",
       "83        47\n",
       "84        47\n",
       "82        46\n",
       "77        45\n",
       "74        43\n",
       "79        35\n",
       "92        22\n",
       "Name: duration, Length: 92, dtype: int64"
      ]
     },
     "execution_count": 48,
     "metadata": {},
     "output_type": "execute_result"
    }
   ],
   "source": [
    "# get value counts\n",
    "df_completed.duration.value_counts()"
   ]
  },
  {
   "cell_type": "markdown",
   "metadata": {},
   "source": [
    "There are 92 unique durations in the dataset. Since some of these are very sparse, I will bucket these values."
   ]
  },
  {
   "cell_type": "code",
   "execution_count": 49,
   "metadata": {},
   "outputs": [
    {
     "data": {
      "text/plain": [
       "count    331654.000000\n",
       "mean         33.954920\n",
       "std          12.713587\n",
       "min           1.000000\n",
       "25%          30.000000\n",
       "50%          30.000000\n",
       "75%          36.000000\n",
       "max          92.000000\n",
       "Name: duration, dtype: float64"
      ]
     },
     "execution_count": 49,
     "metadata": {},
     "output_type": "execute_result"
    }
   ],
   "source": [
    "df_completed.duration.describe()"
   ]
  },
  {
   "cell_type": "code",
   "execution_count": 50,
   "metadata": {},
   "outputs": [],
   "source": [
    "# specifiy bin values\n",
    "bin_values = [0,14,20,25,30,40,50,df_completed.duration.max()]\n",
    "\n",
    "# cut duration into buckets based on bin values\n",
    "df_completed['duration_bucket'] = pd.cut(df_completed.duration, bin_values)"
   ]
  },
  {
   "cell_type": "code",
   "execution_count": 51,
   "metadata": {},
   "outputs": [
    {
     "data": {
      "text/plain": [
       "(25, 30]    163883\n",
       "(30, 40]     52562\n",
       "(50, 92]     39803\n",
       "(40, 50]     27873\n",
       "(20, 25]     18469\n",
       "(14, 20]     16624\n",
       "(0, 14]      12440\n",
       "Name: duration_bucket, dtype: int64"
      ]
     },
     "execution_count": 51,
     "metadata": {},
     "output_type": "execute_result"
    }
   ],
   "source": [
    "# get value counts for duration bucket column\n",
    "df_completed.duration_bucket.value_counts()"
   ]
  },
  {
   "cell_type": "markdown",
   "metadata": {},
   "source": [
    "Above we can see that the majority of projects fell in the 25-30 day range for duration. Now let's see how success rate breaks down for each duration bucket."
   ]
  },
  {
   "cell_type": "code",
   "execution_count": 52,
   "metadata": {},
   "outputs": [
    {
     "data": {
      "text/html": [
       "<div>\n",
       "<style scoped>\n",
       "    .dataframe tbody tr th:only-of-type {\n",
       "        vertical-align: middle;\n",
       "    }\n",
       "\n",
       "    .dataframe tbody tr th {\n",
       "        vertical-align: top;\n",
       "    }\n",
       "\n",
       "    .dataframe thead th {\n",
       "        text-align: right;\n",
       "    }\n",
       "</style>\n",
       "<table border=\"1\" class=\"dataframe\">\n",
       "  <thead>\n",
       "    <tr style=\"text-align: right;\">\n",
       "      <th></th>\n",
       "      <th>success_rate</th>\n",
       "      <th>failed_rate</th>\n",
       "    </tr>\n",
       "    <tr>\n",
       "      <th>duration_bucket</th>\n",
       "      <th></th>\n",
       "      <th></th>\n",
       "    </tr>\n",
       "  </thead>\n",
       "  <tbody>\n",
       "    <tr>\n",
       "      <th>(20, 25]</th>\n",
       "      <td>56.245601</td>\n",
       "      <td>43.754399</td>\n",
       "    </tr>\n",
       "    <tr>\n",
       "      <th>(0, 14]</th>\n",
       "      <td>52.106109</td>\n",
       "      <td>47.893891</td>\n",
       "    </tr>\n",
       "    <tr>\n",
       "      <th>(14, 20]</th>\n",
       "      <td>50.210539</td>\n",
       "      <td>49.789461</td>\n",
       "    </tr>\n",
       "    <tr>\n",
       "      <th>(30, 40]</th>\n",
       "      <td>50.119858</td>\n",
       "      <td>49.880142</td>\n",
       "    </tr>\n",
       "    <tr>\n",
       "      <th>(40, 50]</th>\n",
       "      <td>38.338177</td>\n",
       "      <td>61.661823</td>\n",
       "    </tr>\n",
       "    <tr>\n",
       "      <th>(25, 30]</th>\n",
       "      <td>37.363851</td>\n",
       "      <td>62.636149</td>\n",
       "    </tr>\n",
       "    <tr>\n",
       "      <th>(50, 92]</th>\n",
       "      <td>26.309575</td>\n",
       "      <td>73.690425</td>\n",
       "    </tr>\n",
       "  </tbody>\n",
       "</table>\n",
       "</div>"
      ],
      "text/plain": [
       "                 success_rate  failed_rate\n",
       "duration_bucket                           \n",
       "(20, 25]            56.245601    43.754399\n",
       "(0, 14]             52.106109    47.893891\n",
       "(14, 20]            50.210539    49.789461\n",
       "(30, 40]            50.119858    49.880142\n",
       "(40, 50]            38.338177    61.661823\n",
       "(25, 30]            37.363851    62.636149\n",
       "(50, 92]            26.309575    73.690425"
      ]
     },
     "execution_count": 52,
     "metadata": {},
     "output_type": "execute_result"
    },
    {
     "data": {
      "image/png": "[encoded data removed]",
      "text/plain": [
       "<Figure size 864x360 with 1 Axes>"
      ]
     },
     "metadata": {},
     "output_type": "display_data"
    }
   ],
   "source": [
    "plot_success_rate(df_completed, 'duration_bucket', xlabel='Duration range in days')"
   ]
  },
  {
   "cell_type": "markdown",
   "metadata": {},
   "source": [
    "From the plot above, we can see that projects that lasted 20-25 days had the greatest success rate (56%) and projects that lasted over 50 days had the lowest success rate (26%)."
   ]
  },
  {
   "cell_type": "markdown",
   "metadata": {},
   "source": [
    "### For Questions 4 and 5, I need to use machine learning to build a logistic regression model. These will be explored in a separate jupyter notebook."
   ]
  }
 ],
 "metadata": {
  "kernelspec": {
   "display_name": "Python [default]",
   "language": "python",
   "name": "python3"
  },
  "language_info": {
   "codemirror_mode": {
    "name": "ipython",
    "version": 3
   },
   "file_extension": ".py",
   "mimetype": "text/x-python",
   "name": "python",
   "nbconvert_exporter": "python",
   "pygments_lexer": "ipython3",
   "version": "3.6.4"
  }
 },
 "nbformat": 4,
 "nbformat_minor": 2
}
