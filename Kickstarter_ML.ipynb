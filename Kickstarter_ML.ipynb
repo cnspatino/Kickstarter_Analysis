{
 "cells": [
  {
   "cell_type": "markdown",
   "metadata": {},
   "source": [
    "# Building a model for predicting success of a Kickstarter project"
   ]
  },
  {
   "cell_type": "markdown",
   "metadata": {},
   "source": [
    "**Question 4: What features have the greatest influence on success?**\n",
    "\n",
    "**Question 5: Can we predict success of current/future projects?**\n",
    "\n",
    "To answer both of these questions, I can use machine learning to create a logistic regression model. First I need to clean the data and then pre-process it."
   ]
  },
  {
   "cell_type": "markdown",
   "metadata": {},
   "source": [
    "### Clean the data"
   ]
  },
  {
   "cell_type": "code",
   "execution_count": 1,
   "metadata": {},
   "outputs": [],
   "source": [
    "# load packages\n",
    "import pandas as pd\n",
    "import numpy as np\n",
    "import seaborn as sns\n",
    "import kickstarter_functions as kf\n",
    "import kickstarter_ML as kml\n",
    "\n",
    "from sklearn.preprocessing import RobustScaler\n",
    "from sklearn.linear_model import LogisticRegression\n",
    "from sklearn.model_selection import train_test_split\n",
    "from sklearn.metrics import f1_score, precision_score, recall_score, accuracy_score\n",
    "\n",
    "import matplotlib.pyplot as plt\n",
    "from IPython import display\n",
    "%matplotlib inline"
   ]
  },
  {
   "cell_type": "code",
   "execution_count": 2,
   "metadata": {
    "scrolled": false
   },
   "outputs": [
    {
     "data": {
      "text/html": [
       "<div>\n",
       "<style scoped>\n",
       "    .dataframe tbody tr th:only-of-type {\n",
       "        vertical-align: middle;\n",
       "    }\n",
       "\n",
       "    .dataframe tbody tr th {\n",
       "        vertical-align: top;\n",
       "    }\n",
       "\n",
       "    .dataframe thead th {\n",
       "        text-align: right;\n",
       "    }\n",
       "</style>\n",
       "<table border=\"1\" class=\"dataframe\">\n",
       "  <thead>\n",
       "    <tr style=\"text-align: right;\">\n",
       "      <th></th>\n",
       "      <th>ID</th>\n",
       "      <th>name</th>\n",
       "      <th>category</th>\n",
       "      <th>main_category</th>\n",
       "      <th>currency</th>\n",
       "      <th>deadline</th>\n",
       "      <th>goal</th>\n",
       "      <th>launched</th>\n",
       "      <th>pledged</th>\n",
       "      <th>state</th>\n",
       "      <th>backers</th>\n",
       "      <th>country</th>\n",
       "      <th>usd pledged</th>\n",
       "      <th>usd_pledged_real</th>\n",
       "      <th>usd_goal_real</th>\n",
       "    </tr>\n",
       "  </thead>\n",
       "  <tbody>\n",
       "    <tr>\n",
       "      <th>0</th>\n",
       "      <td>1000002330</td>\n",
       "      <td>The Songs of Adelaide &amp; Abullah</td>\n",
       "      <td>Poetry</td>\n",
       "      <td>Publishing</td>\n",
       "      <td>GBP</td>\n",
       "      <td>2015-10-09</td>\n",
       "      <td>1000.0</td>\n",
       "      <td>2015-08-11 12:12:28</td>\n",
       "      <td>0.0</td>\n",
       "      <td>failed</td>\n",
       "      <td>0</td>\n",
       "      <td>GB</td>\n",
       "      <td>0.0</td>\n",
       "      <td>0.0</td>\n",
       "      <td>1533.95</td>\n",
       "    </tr>\n",
       "    <tr>\n",
       "      <th>1</th>\n",
       "      <td>1000003930</td>\n",
       "      <td>Greeting From Earth: ZGAC Arts Capsule For ET</td>\n",
       "      <td>Narrative Film</td>\n",
       "      <td>Film &amp; Video</td>\n",
       "      <td>USD</td>\n",
       "      <td>2017-11-01</td>\n",
       "      <td>30000.0</td>\n",
       "      <td>2017-09-02 04:43:57</td>\n",
       "      <td>2421.0</td>\n",
       "      <td>failed</td>\n",
       "      <td>15</td>\n",
       "      <td>US</td>\n",
       "      <td>100.0</td>\n",
       "      <td>2421.0</td>\n",
       "      <td>30000.00</td>\n",
       "    </tr>\n",
       "    <tr>\n",
       "      <th>2</th>\n",
       "      <td>1000004038</td>\n",
       "      <td>Where is Hank?</td>\n",
       "      <td>Narrative Film</td>\n",
       "      <td>Film &amp; Video</td>\n",
       "      <td>USD</td>\n",
       "      <td>2013-02-26</td>\n",
       "      <td>45000.0</td>\n",
       "      <td>2013-01-12 00:20:50</td>\n",
       "      <td>220.0</td>\n",
       "      <td>failed</td>\n",
       "      <td>3</td>\n",
       "      <td>US</td>\n",
       "      <td>220.0</td>\n",
       "      <td>220.0</td>\n",
       "      <td>45000.00</td>\n",
       "    </tr>\n",
       "    <tr>\n",
       "      <th>3</th>\n",
       "      <td>1000007540</td>\n",
       "      <td>ToshiCapital Rekordz Needs Help to Complete Album</td>\n",
       "      <td>Music</td>\n",
       "      <td>Music</td>\n",
       "      <td>USD</td>\n",
       "      <td>2012-04-16</td>\n",
       "      <td>5000.0</td>\n",
       "      <td>2012-03-17 03:24:11</td>\n",
       "      <td>1.0</td>\n",
       "      <td>failed</td>\n",
       "      <td>1</td>\n",
       "      <td>US</td>\n",
       "      <td>1.0</td>\n",
       "      <td>1.0</td>\n",
       "      <td>5000.00</td>\n",
       "    </tr>\n",
       "    <tr>\n",
       "      <th>4</th>\n",
       "      <td>1000011046</td>\n",
       "      <td>Community Film Project: The Art of Neighborhoo...</td>\n",
       "      <td>Film &amp; Video</td>\n",
       "      <td>Film &amp; Video</td>\n",
       "      <td>USD</td>\n",
       "      <td>2015-08-29</td>\n",
       "      <td>19500.0</td>\n",
       "      <td>2015-07-04 08:35:03</td>\n",
       "      <td>1283.0</td>\n",
       "      <td>canceled</td>\n",
       "      <td>14</td>\n",
       "      <td>US</td>\n",
       "      <td>1283.0</td>\n",
       "      <td>1283.0</td>\n",
       "      <td>19500.00</td>\n",
       "    </tr>\n",
       "  </tbody>\n",
       "</table>\n",
       "</div>"
      ],
      "text/plain": [
       "           ID                                               name  \\\n",
       "0  1000002330                    The Songs of Adelaide & Abullah   \n",
       "1  1000003930      Greeting From Earth: ZGAC Arts Capsule For ET   \n",
       "2  1000004038                                     Where is Hank?   \n",
       "3  1000007540  ToshiCapital Rekordz Needs Help to Complete Album   \n",
       "4  1000011046  Community Film Project: The Art of Neighborhoo...   \n",
       "\n",
       "         category main_category currency    deadline     goal  \\\n",
       "0          Poetry    Publishing      GBP  2015-10-09   1000.0   \n",
       "1  Narrative Film  Film & Video      USD  2017-11-01  30000.0   \n",
       "2  Narrative Film  Film & Video      USD  2013-02-26  45000.0   \n",
       "3           Music         Music      USD  2012-04-16   5000.0   \n",
       "4    Film & Video  Film & Video      USD  2015-08-29  19500.0   \n",
       "\n",
       "              launched  pledged     state  backers country  usd pledged  \\\n",
       "0  2015-08-11 12:12:28      0.0    failed        0      GB          0.0   \n",
       "1  2017-09-02 04:43:57   2421.0    failed       15      US        100.0   \n",
       "2  2013-01-12 00:20:50    220.0    failed        3      US        220.0   \n",
       "3  2012-03-17 03:24:11      1.0    failed        1      US          1.0   \n",
       "4  2015-07-04 08:35:03   1283.0  canceled       14      US       1283.0   \n",
       "\n",
       "   usd_pledged_real  usd_goal_real  \n",
       "0               0.0        1533.95  \n",
       "1            2421.0       30000.00  \n",
       "2             220.0       45000.00  \n",
       "3               1.0        5000.00  \n",
       "4            1283.0       19500.00  "
      ]
     },
     "execution_count": 2,
     "metadata": {},
     "output_type": "execute_result"
    }
   ],
   "source": [
    "# load in csv file as dataframe\n",
    "df = pd.read_csv('ks-projects-201801.csv')\n",
    "df.head()"
   ]
  },
  {
   "cell_type": "markdown",
   "metadata": {},
   "source": [
    "Since I'm interested in modelling how these features can predict success vs. failure, I only want to keep the projects that completed as 'successful' or 'failed'."
   ]
  },
  {
   "cell_type": "code",
   "execution_count": 3,
   "metadata": {},
   "outputs": [],
   "source": [
    "df_clean = df.copy()"
   ]
  },
  {
   "cell_type": "code",
   "execution_count": 4,
   "metadata": {},
   "outputs": [],
   "source": [
    "# drop unfinished or undefined projects\n",
    "unfinished = ['canceled','undefined','live','suspended']\n",
    "\n",
    "df_clean = df_clean[~df_clean.state.isin(unfinished)]"
   ]
  },
  {
   "cell_type": "code",
   "execution_count": 5,
   "metadata": {
    "scrolled": true
   },
   "outputs": [],
   "source": [
    "# fill missing country values using currency where applicable\n",
    "df_clean = kf.fill_missing_countries(df_clean)"
   ]
  },
  {
   "cell_type": "code",
   "execution_count": 6,
   "metadata": {},
   "outputs": [
    {
     "data": {
      "text/plain": [
       "US     261511\n",
       "GB      29476\n",
       "CA      12375\n",
       "AU       6621\n",
       "DE       3436\n",
       "FR       2520\n",
       "NL       2411\n",
       "IT       2369\n",
       "ES       1873\n",
       "SE       1510\n",
       "MX       1411\n",
       "NZ       1274\n",
       "DK        929\n",
       "IE        683\n",
       "CH        652\n",
       "NO        584\n",
       "BE        523\n",
       "AT        485\n",
       "HK        477\n",
       "SG        454\n",
       "LU         57\n",
       "JP         23\n",
       "NaN        21\n",
       "Name: country, dtype: int64"
      ]
     },
     "execution_count": 6,
     "metadata": {},
     "output_type": "execute_result"
    }
   ],
   "source": [
    "df_clean.country.value_counts(dropna=False)"
   ]
  },
  {
   "cell_type": "markdown",
   "metadata": {},
   "source": [
    "There are still 21 missing values for country since the missing entries with euro as their currency could not be determined. Luckily this is a very small percent of the total entries, so I will go ahead and drop these rows."
   ]
  },
  {
   "cell_type": "code",
   "execution_count": 7,
   "metadata": {},
   "outputs": [],
   "source": [
    "df_clean = df_clean[df_clean.country.notnull()]"
   ]
  },
  {
   "cell_type": "code",
   "execution_count": 8,
   "metadata": {},
   "outputs": [
    {
     "data": {
      "text/plain": [
       "0"
      ]
     },
     "execution_count": 8,
     "metadata": {},
     "output_type": "execute_result"
    }
   ],
   "source": [
    "# confirm\n",
    "df_clean.country.isnull().sum()"
   ]
  },
  {
   "cell_type": "code",
   "execution_count": 9,
   "metadata": {},
   "outputs": [
    {
     "data": {
      "text/plain": [
       "0    59\n",
       "1    60\n",
       "2    45\n",
       "3    30\n",
       "5    35\n",
       "Name: duration, dtype: int64"
      ]
     },
     "execution_count": 9,
     "metadata": {},
     "output_type": "execute_result"
    }
   ],
   "source": [
    "# create duration column using deadline and launched columns\n",
    "df_clean = kf.get_duration(df_clean, 'launched', 'deadline')\n",
    "\n",
    "# confirm\n",
    "df_clean.duration.head()"
   ]
  },
  {
   "cell_type": "code",
   "execution_count": 10,
   "metadata": {
    "scrolled": true
   },
   "outputs": [
    {
     "data": {
      "text/html": [
       "<div>\n",
       "<style scoped>\n",
       "    .dataframe tbody tr th:only-of-type {\n",
       "        vertical-align: middle;\n",
       "    }\n",
       "\n",
       "    .dataframe tbody tr th {\n",
       "        vertical-align: top;\n",
       "    }\n",
       "\n",
       "    .dataframe thead th {\n",
       "        text-align: right;\n",
       "    }\n",
       "</style>\n",
       "<table border=\"1\" class=\"dataframe\">\n",
       "  <thead>\n",
       "    <tr style=\"text-align: right;\">\n",
       "      <th></th>\n",
       "      <th>ID</th>\n",
       "      <th>name</th>\n",
       "      <th>category</th>\n",
       "      <th>main_category</th>\n",
       "      <th>currency</th>\n",
       "      <th>deadline</th>\n",
       "      <th>goal</th>\n",
       "      <th>launched</th>\n",
       "      <th>pledged</th>\n",
       "      <th>state</th>\n",
       "      <th>backers</th>\n",
       "      <th>country</th>\n",
       "      <th>usd pledged</th>\n",
       "      <th>usd_pledged_real</th>\n",
       "      <th>usd_goal_real</th>\n",
       "      <th>duration</th>\n",
       "    </tr>\n",
       "  </thead>\n",
       "  <tbody>\n",
       "    <tr>\n",
       "      <th>169268</th>\n",
       "      <td>1860890148</td>\n",
       "      <td>Grace Jones Does Not Give A F$#% T-Shirt (limi...</td>\n",
       "      <td>Fashion</td>\n",
       "      <td>Fashion</td>\n",
       "      <td>USD</td>\n",
       "      <td>2009-05-31</td>\n",
       "      <td>1000.0</td>\n",
       "      <td>2009-04-21</td>\n",
       "      <td>625.0</td>\n",
       "      <td>failed</td>\n",
       "      <td>30</td>\n",
       "      <td>US</td>\n",
       "      <td>625.0</td>\n",
       "      <td>625.0</td>\n",
       "      <td>1000.0</td>\n",
       "      <td>40</td>\n",
       "    </tr>\n",
       "  </tbody>\n",
       "</table>\n",
       "</div>"
      ],
      "text/plain": [
       "                ID                                               name  \\\n",
       "169268  1860890148  Grace Jones Does Not Give A F$#% T-Shirt (limi...   \n",
       "\n",
       "       category main_category currency   deadline    goal   launched  pledged  \\\n",
       "169268  Fashion       Fashion      USD 2009-05-31  1000.0 2009-04-21    625.0   \n",
       "\n",
       "         state  backers country  usd pledged  usd_pledged_real  usd_goal_real  \\\n",
       "169268  failed       30      US        625.0             625.0         1000.0   \n",
       "\n",
       "        duration  \n",
       "169268        40  "
      ]
     },
     "execution_count": 10,
     "metadata": {},
     "output_type": "execute_result"
    }
   ],
   "source": [
    "df_sorted_by_date = df_clean.sort_values(by='launched')\n",
    "df_sorted_by_date.head(1)"
   ]
  },
  {
   "cell_type": "code",
   "execution_count": 11,
   "metadata": {},
   "outputs": [
    {
     "data": {
      "text/html": [
       "<div>\n",
       "<style scoped>\n",
       "    .dataframe tbody tr th:only-of-type {\n",
       "        vertical-align: middle;\n",
       "    }\n",
       "\n",
       "    .dataframe tbody tr th {\n",
       "        vertical-align: top;\n",
       "    }\n",
       "\n",
       "    .dataframe thead th {\n",
       "        text-align: right;\n",
       "    }\n",
       "</style>\n",
       "<table border=\"1\" class=\"dataframe\">\n",
       "  <thead>\n",
       "    <tr style=\"text-align: right;\">\n",
       "      <th></th>\n",
       "      <th>ID</th>\n",
       "      <th>name</th>\n",
       "      <th>category</th>\n",
       "      <th>main_category</th>\n",
       "      <th>currency</th>\n",
       "      <th>deadline</th>\n",
       "      <th>goal</th>\n",
       "      <th>launched</th>\n",
       "      <th>pledged</th>\n",
       "      <th>state</th>\n",
       "      <th>backers</th>\n",
       "      <th>country</th>\n",
       "      <th>usd pledged</th>\n",
       "      <th>usd_pledged_real</th>\n",
       "      <th>usd_goal_real</th>\n",
       "      <th>duration</th>\n",
       "    </tr>\n",
       "  </thead>\n",
       "  <tbody>\n",
       "    <tr>\n",
       "      <th>339929</th>\n",
       "      <td>801423615</td>\n",
       "      <td>Collaboration with Snoop Dogg</td>\n",
       "      <td>Hip-Hop</td>\n",
       "      <td>Music</td>\n",
       "      <td>AUD</td>\n",
       "      <td>2018-01-01</td>\n",
       "      <td>500.0</td>\n",
       "      <td>2017-12-29</td>\n",
       "      <td>655.0</td>\n",
       "      <td>successful</td>\n",
       "      <td>6</td>\n",
       "      <td>AU</td>\n",
       "      <td>507.33</td>\n",
       "      <td>513.6</td>\n",
       "      <td>392.06</td>\n",
       "      <td>3</td>\n",
       "    </tr>\n",
       "  </tbody>\n",
       "</table>\n",
       "</div>"
      ],
      "text/plain": [
       "               ID                           name category main_category  \\\n",
       "339929  801423615  Collaboration with Snoop Dogg  Hip-Hop         Music   \n",
       "\n",
       "       currency   deadline   goal   launched  pledged       state  backers  \\\n",
       "339929      AUD 2018-01-01  500.0 2017-12-29    655.0  successful        6   \n",
       "\n",
       "       country  usd pledged  usd_pledged_real  usd_goal_real  duration  \n",
       "339929      AU       507.33             513.6         392.06         3  "
      ]
     },
     "execution_count": 11,
     "metadata": {},
     "output_type": "execute_result"
    }
   ],
   "source": [
    "df_sorted_by_date.tail(1)"
   ]
  },
  {
   "cell_type": "markdown",
   "metadata": {},
   "source": [
    "The earliest project launch date  in the dataset was May 2009 and the most recent launch date was January 2018."
   ]
  },
  {
   "cell_type": "markdown",
   "metadata": {},
   "source": [
    "Now I want to drop unwanted columns that are either redundant or not of interest for predicting success of a project. Since 'category' has so many different values and some sparse columns (found when exploring the data in Kickstarter_analysis.ipynb), I will drop this and focus on the main categories for predicting success."
   ]
  },
  {
   "cell_type": "code",
   "execution_count": 12,
   "metadata": {},
   "outputs": [],
   "source": [
    " # drop unwanted columns\n",
    "drop_cols = ['ID','name','category','currency','goal','pledged','usd pledged',\n",
    "             'launched','deadline']\n",
    "df_clean.drop(drop_cols, axis=1, inplace=True)"
   ]
  },
  {
   "cell_type": "code",
   "execution_count": 13,
   "metadata": {
    "scrolled": true
   },
   "outputs": [],
   "source": [
    "# map successful to 1, failed to 0\n",
    "df_clean.state = df_clean.state.map({'successful':1, 'failed':0})\n",
    "\n",
    "# rename column\n",
    "df_clean.rename({'state':'succeeded'}, axis=1, inplace=True)"
   ]
  },
  {
   "cell_type": "code",
   "execution_count": 14,
   "metadata": {
    "scrolled": true
   },
   "outputs": [
    {
     "data": {
      "text/plain": [
       "0    0\n",
       "1    0\n",
       "2    0\n",
       "3    0\n",
       "5    1\n",
       "Name: succeeded, dtype: int64"
      ]
     },
     "execution_count": 14,
     "metadata": {},
     "output_type": "execute_result"
    }
   ],
   "source": [
    "# confirm\n",
    "df_clean['succeeded'].head()"
   ]
  },
  {
   "cell_type": "code",
   "execution_count": 15,
   "metadata": {
    "scrolled": true
   },
   "outputs": [
    {
     "data": {
      "image/png": "[encoded data removed]",
      "text/plain": [
       "<matplotlib.figure.Figure at 0x1a16ec6860>"
      ]
     },
     "metadata": {},
     "output_type": "display_data"
    }
   ],
   "source": [
    "corr = df_clean.corr()\n",
    "sns.heatmap(corr, annot=True);"
   ]
  },
  {
   "cell_type": "markdown",
   "metadata": {},
   "source": [
    "None of the numerical variables have a strong linear correlation to the success of a project. Amount pledged has a strong positive correlation with number of backers. In order to limit multicollinearity in the machine learning model, I will use only one of these two highly correlated variables."
   ]
  },
  {
   "cell_type": "code",
   "execution_count": 16,
   "metadata": {},
   "outputs": [],
   "source": [
    "# drop usd_pledged_real to prevent multicollinearity from affecting model\n",
    "df_clean.drop(['usd_pledged_real'], axis=1, inplace=True)"
   ]
  },
  {
   "cell_type": "markdown",
   "metadata": {},
   "source": [
    "### Create dummy variables for categorical variables"
   ]
  },
  {
   "cell_type": "code",
   "execution_count": 17,
   "metadata": {},
   "outputs": [],
   "source": [
    "# create dummy variables\n",
    "df_clean = pd.get_dummies(df_clean)"
   ]
  },
  {
   "cell_type": "code",
   "execution_count": 18,
   "metadata": {
    "scrolled": false
   },
   "outputs": [
    {
     "data": {
      "text/html": [
       "<div>\n",
       "<style scoped>\n",
       "    .dataframe tbody tr th:only-of-type {\n",
       "        vertical-align: middle;\n",
       "    }\n",
       "\n",
       "    .dataframe tbody tr th {\n",
       "        vertical-align: top;\n",
       "    }\n",
       "\n",
       "    .dataframe thead th {\n",
       "        text-align: right;\n",
       "    }\n",
       "</style>\n",
       "<table border=\"1\" class=\"dataframe\">\n",
       "  <thead>\n",
       "    <tr style=\"text-align: right;\">\n",
       "      <th></th>\n",
       "      <th>succeeded</th>\n",
       "      <th>backers</th>\n",
       "      <th>usd_goal_real</th>\n",
       "      <th>duration</th>\n",
       "      <th>main_category_Art</th>\n",
       "      <th>main_category_Comics</th>\n",
       "      <th>main_category_Crafts</th>\n",
       "      <th>main_category_Dance</th>\n",
       "      <th>main_category_Design</th>\n",
       "      <th>main_category_Fashion</th>\n",
       "      <th>...</th>\n",
       "      <th>country_IT</th>\n",
       "      <th>country_JP</th>\n",
       "      <th>country_LU</th>\n",
       "      <th>country_MX</th>\n",
       "      <th>country_NL</th>\n",
       "      <th>country_NO</th>\n",
       "      <th>country_NZ</th>\n",
       "      <th>country_SE</th>\n",
       "      <th>country_SG</th>\n",
       "      <th>country_US</th>\n",
       "    </tr>\n",
       "  </thead>\n",
       "  <tbody>\n",
       "    <tr>\n",
       "      <th>0</th>\n",
       "      <td>0</td>\n",
       "      <td>0</td>\n",
       "      <td>1533.95</td>\n",
       "      <td>59</td>\n",
       "      <td>0</td>\n",
       "      <td>0</td>\n",
       "      <td>0</td>\n",
       "      <td>0</td>\n",
       "      <td>0</td>\n",
       "      <td>0</td>\n",
       "      <td>...</td>\n",
       "      <td>0</td>\n",
       "      <td>0</td>\n",
       "      <td>0</td>\n",
       "      <td>0</td>\n",
       "      <td>0</td>\n",
       "      <td>0</td>\n",
       "      <td>0</td>\n",
       "      <td>0</td>\n",
       "      <td>0</td>\n",
       "      <td>0</td>\n",
       "    </tr>\n",
       "    <tr>\n",
       "      <th>1</th>\n",
       "      <td>0</td>\n",
       "      <td>15</td>\n",
       "      <td>30000.00</td>\n",
       "      <td>60</td>\n",
       "      <td>0</td>\n",
       "      <td>0</td>\n",
       "      <td>0</td>\n",
       "      <td>0</td>\n",
       "      <td>0</td>\n",
       "      <td>0</td>\n",
       "      <td>...</td>\n",
       "      <td>0</td>\n",
       "      <td>0</td>\n",
       "      <td>0</td>\n",
       "      <td>0</td>\n",
       "      <td>0</td>\n",
       "      <td>0</td>\n",
       "      <td>0</td>\n",
       "      <td>0</td>\n",
       "      <td>0</td>\n",
       "      <td>1</td>\n",
       "    </tr>\n",
       "    <tr>\n",
       "      <th>2</th>\n",
       "      <td>0</td>\n",
       "      <td>3</td>\n",
       "      <td>45000.00</td>\n",
       "      <td>45</td>\n",
       "      <td>0</td>\n",
       "      <td>0</td>\n",
       "      <td>0</td>\n",
       "      <td>0</td>\n",
       "      <td>0</td>\n",
       "      <td>0</td>\n",
       "      <td>...</td>\n",
       "      <td>0</td>\n",
       "      <td>0</td>\n",
       "      <td>0</td>\n",
       "      <td>0</td>\n",
       "      <td>0</td>\n",
       "      <td>0</td>\n",
       "      <td>0</td>\n",
       "      <td>0</td>\n",
       "      <td>0</td>\n",
       "      <td>1</td>\n",
       "    </tr>\n",
       "    <tr>\n",
       "      <th>3</th>\n",
       "      <td>0</td>\n",
       "      <td>1</td>\n",
       "      <td>5000.00</td>\n",
       "      <td>30</td>\n",
       "      <td>0</td>\n",
       "      <td>0</td>\n",
       "      <td>0</td>\n",
       "      <td>0</td>\n",
       "      <td>0</td>\n",
       "      <td>0</td>\n",
       "      <td>...</td>\n",
       "      <td>0</td>\n",
       "      <td>0</td>\n",
       "      <td>0</td>\n",
       "      <td>0</td>\n",
       "      <td>0</td>\n",
       "      <td>0</td>\n",
       "      <td>0</td>\n",
       "      <td>0</td>\n",
       "      <td>0</td>\n",
       "      <td>1</td>\n",
       "    </tr>\n",
       "    <tr>\n",
       "      <th>5</th>\n",
       "      <td>1</td>\n",
       "      <td>224</td>\n",
       "      <td>50000.00</td>\n",
       "      <td>35</td>\n",
       "      <td>0</td>\n",
       "      <td>0</td>\n",
       "      <td>0</td>\n",
       "      <td>0</td>\n",
       "      <td>0</td>\n",
       "      <td>0</td>\n",
       "      <td>...</td>\n",
       "      <td>0</td>\n",
       "      <td>0</td>\n",
       "      <td>0</td>\n",
       "      <td>0</td>\n",
       "      <td>0</td>\n",
       "      <td>0</td>\n",
       "      <td>0</td>\n",
       "      <td>0</td>\n",
       "      <td>0</td>\n",
       "      <td>1</td>\n",
       "    </tr>\n",
       "  </tbody>\n",
       "</table>\n",
       "<p>5 rows × 41 columns</p>\n",
       "</div>"
      ],
      "text/plain": [
       "   succeeded  backers  usd_goal_real  duration  main_category_Art  \\\n",
       "0          0        0        1533.95        59                  0   \n",
       "1          0       15       30000.00        60                  0   \n",
       "2          0        3       45000.00        45                  0   \n",
       "3          0        1        5000.00        30                  0   \n",
       "5          1      224       50000.00        35                  0   \n",
       "\n",
       "   main_category_Comics  main_category_Crafts  main_category_Dance  \\\n",
       "0                     0                     0                    0   \n",
       "1                     0                     0                    0   \n",
       "2                     0                     0                    0   \n",
       "3                     0                     0                    0   \n",
       "5                     0                     0                    0   \n",
       "\n",
       "   main_category_Design  main_category_Fashion     ...      country_IT  \\\n",
       "0                     0                      0     ...               0   \n",
       "1                     0                      0     ...               0   \n",
       "2                     0                      0     ...               0   \n",
       "3                     0                      0     ...               0   \n",
       "5                     0                      0     ...               0   \n",
       "\n",
       "   country_JP  country_LU  country_MX  country_NL  country_NO  country_NZ  \\\n",
       "0           0           0           0           0           0           0   \n",
       "1           0           0           0           0           0           0   \n",
       "2           0           0           0           0           0           0   \n",
       "3           0           0           0           0           0           0   \n",
       "5           0           0           0           0           0           0   \n",
       "\n",
       "   country_SE  country_SG  country_US  \n",
       "0           0           0           0  \n",
       "1           0           0           1  \n",
       "2           0           0           1  \n",
       "3           0           0           1  \n",
       "5           0           0           1  \n",
       "\n",
       "[5 rows x 41 columns]"
      ]
     },
     "execution_count": 18,
     "metadata": {},
     "output_type": "execute_result"
    }
   ],
   "source": [
    "df_clean.head()"
   ]
  },
  {
   "cell_type": "code",
   "execution_count": 19,
   "metadata": {
    "scrolled": true
   },
   "outputs": [
    {
     "data": {
      "text/plain": [
       "(331654, 41)"
      ]
     },
     "execution_count": 19,
     "metadata": {},
     "output_type": "execute_result"
    }
   ],
   "source": [
    "df_clean.shape"
   ]
  },
  {
   "cell_type": "markdown",
   "metadata": {},
   "source": [
    "There are now 40 features and 1 target variable (41 columns total)."
   ]
  },
  {
   "cell_type": "markdown",
   "metadata": {},
   "source": [
    "### Transform numerical variables that are highly skewed"
   ]
  },
  {
   "cell_type": "code",
   "execution_count": 20,
   "metadata": {},
   "outputs": [
    {
     "data": {
      "text/html": [
       "<div>\n",
       "<style scoped>\n",
       "    .dataframe tbody tr th:only-of-type {\n",
       "        vertical-align: middle;\n",
       "    }\n",
       "\n",
       "    .dataframe tbody tr th {\n",
       "        vertical-align: top;\n",
       "    }\n",
       "\n",
       "    .dataframe thead th {\n",
       "        text-align: right;\n",
       "    }\n",
       "</style>\n",
       "<table border=\"1\" class=\"dataframe\">\n",
       "  <thead>\n",
       "    <tr style=\"text-align: right;\">\n",
       "      <th></th>\n",
       "      <th>backers</th>\n",
       "      <th>usd_goal_real</th>\n",
       "      <th>duration</th>\n",
       "    </tr>\n",
       "  </thead>\n",
       "  <tbody>\n",
       "    <tr>\n",
       "      <th>count</th>\n",
       "      <td>331654.000000</td>\n",
       "      <td>3.316540e+05</td>\n",
       "      <td>331654.000000</td>\n",
       "    </tr>\n",
       "    <tr>\n",
       "      <th>mean</th>\n",
       "      <td>116.388951</td>\n",
       "      <td>4.151218e+04</td>\n",
       "      <td>33.954920</td>\n",
       "    </tr>\n",
       "    <tr>\n",
       "      <th>std</th>\n",
       "      <td>965.457388</td>\n",
       "      <td>1.108965e+06</td>\n",
       "      <td>12.713587</td>\n",
       "    </tr>\n",
       "    <tr>\n",
       "      <th>min</th>\n",
       "      <td>0.000000</td>\n",
       "      <td>1.000000e-02</td>\n",
       "      <td>1.000000</td>\n",
       "    </tr>\n",
       "    <tr>\n",
       "      <th>25%</th>\n",
       "      <td>2.000000</td>\n",
       "      <td>2.000000e+03</td>\n",
       "      <td>30.000000</td>\n",
       "    </tr>\n",
       "    <tr>\n",
       "      <th>50%</th>\n",
       "      <td>15.000000</td>\n",
       "      <td>5.000000e+03</td>\n",
       "      <td>30.000000</td>\n",
       "    </tr>\n",
       "    <tr>\n",
       "      <th>75%</th>\n",
       "      <td>63.000000</td>\n",
       "      <td>1.500000e+04</td>\n",
       "      <td>36.000000</td>\n",
       "    </tr>\n",
       "    <tr>\n",
       "      <th>max</th>\n",
       "      <td>219382.000000</td>\n",
       "      <td>1.663614e+08</td>\n",
       "      <td>92.000000</td>\n",
       "    </tr>\n",
       "  </tbody>\n",
       "</table>\n",
       "</div>"
      ],
      "text/plain": [
       "             backers  usd_goal_real       duration\n",
       "count  331654.000000   3.316540e+05  331654.000000\n",
       "mean      116.388951   4.151218e+04      33.954920\n",
       "std       965.457388   1.108965e+06      12.713587\n",
       "min         0.000000   1.000000e-02       1.000000\n",
       "25%         2.000000   2.000000e+03      30.000000\n",
       "50%        15.000000   5.000000e+03      30.000000\n",
       "75%        63.000000   1.500000e+04      36.000000\n",
       "max    219382.000000   1.663614e+08      92.000000"
      ]
     },
     "execution_count": 20,
     "metadata": {},
     "output_type": "execute_result"
    }
   ],
   "source": [
    "numerical = ['backers','usd_goal_real','duration']\n",
    "\n",
    "# get descriptive statistics for original numerical variables\n",
    "df_clean[numerical].describe()"
   ]
  },
  {
   "cell_type": "code",
   "execution_count": 21,
   "metadata": {
    "scrolled": true
   },
   "outputs": [
    {
     "data": {
      "image/png": "[encoded data removed]",
      "text/plain": [
       "<matplotlib.figure.Figure at 0x1a16984240>"
      ]
     },
     "metadata": {},
     "output_type": "display_data"
    }
   ],
   "source": [
    "# plot histogram of values for numerical features\n",
    "df_clean[numerical].hist();"
   ]
  },
  {
   "cell_type": "markdown",
   "metadata": {},
   "source": [
    "It looks like backers and goal amount are highly skewed with many high outliers, because the max values are so much higher than the lowest 75%. Duration is relatively normally distributed (with just a few outliers cloer to 90). I will go ahead and log transform the backers and usd_goal_real columns in order to decrease the skewness."
   ]
  },
  {
   "cell_type": "code",
   "execution_count": 22,
   "metadata": {},
   "outputs": [
    {
     "data": {
      "image/png": "[encoded data removed]",
      "text/plain": [
       "<matplotlib.figure.Figure at 0x1a16d53710>"
      ]
     },
     "metadata": {},
     "output_type": "display_data"
    }
   ],
   "source": [
    "# log transform the numerical features\n",
    "skewed = ['backers','usd_goal_real']\n",
    "df_clean[skewed] = df_clean[skewed].apply(lambda x: np.log(x + 1))\n",
    "\n",
    "# check\n",
    "df_clean[skewed].hist();"
   ]
  },
  {
   "cell_type": "markdown",
   "metadata": {},
   "source": [
    "### Standardize the numerical features"
   ]
  },
  {
   "cell_type": "code",
   "execution_count": 23,
   "metadata": {},
   "outputs": [
    {
     "data": {
      "text/plain": [
       "0   -0.905995\n",
       "1    0.000000\n",
       "2   -0.452997\n",
       "3   -0.679496\n",
       "5    0.863816\n",
       "Name: backers, dtype: float64"
      ]
     },
     "execution_count": 23,
     "metadata": {},
     "output_type": "execute_result"
    }
   ],
   "source": [
    "# Initialize a scaler, then apply it to the numerical features\n",
    "scaler = RobustScaler() # most values will fall in [-2,3]\n",
    "numerical = ['backers', 'duration', 'usd_goal_real']\n",
    "\n",
    "df_scaled = pd.DataFrame(data=df_clean)\n",
    "df_scaled[numerical] = scaler.fit_transform(df_scaled[numerical])\n",
    "\n",
    "# confirm\n",
    "df_scaled['backers'].head()"
   ]
  },
  {
   "cell_type": "markdown",
   "metadata": {},
   "source": [
    "### Build the logistic regression model"
   ]
  },
  {
   "cell_type": "markdown",
   "metadata": {},
   "source": [
    "Let's get a quick overview of the pre-processed data before building the model."
   ]
  },
  {
   "cell_type": "code",
   "execution_count": 24,
   "metadata": {},
   "outputs": [
    {
     "data": {
      "text/plain": [
       "0    197702\n",
       "1    133952\n",
       "Name: succeeded, dtype: int64"
      ]
     },
     "execution_count": 24,
     "metadata": {},
     "output_type": "execute_result"
    }
   ],
   "source": [
    "df_scaled.succeeded.value_counts()"
   ]
  },
  {
   "cell_type": "code",
   "execution_count": 25,
   "metadata": {
    "scrolled": false
   },
   "outputs": [
    {
     "data": {
      "image/png": "[encoded data removed]",
      "text/plain": [
       "<matplotlib.figure.Figure at 0x1a14b54128>"
      ]
     },
     "metadata": {},
     "output_type": "display_data"
    }
   ],
   "source": [
    "# create count plot\n",
    "sns.countplot(x='succeeded', data=df_scaled);"
   ]
  },
  {
   "cell_type": "code",
   "execution_count": 26,
   "metadata": {},
   "outputs": [
    {
     "data": {
      "text/html": [
       "<div>\n",
       "<style scoped>\n",
       "    .dataframe tbody tr th:only-of-type {\n",
       "        vertical-align: middle;\n",
       "    }\n",
       "\n",
       "    .dataframe tbody tr th {\n",
       "        vertical-align: top;\n",
       "    }\n",
       "\n",
       "    .dataframe thead th {\n",
       "        text-align: right;\n",
       "    }\n",
       "</style>\n",
       "<table border=\"1\" class=\"dataframe\">\n",
       "  <thead>\n",
       "    <tr style=\"text-align: right;\">\n",
       "      <th></th>\n",
       "      <th>backers</th>\n",
       "      <th>usd_goal_real</th>\n",
       "      <th>duration</th>\n",
       "      <th>main_category_Art</th>\n",
       "      <th>main_category_Comics</th>\n",
       "      <th>main_category_Crafts</th>\n",
       "      <th>main_category_Dance</th>\n",
       "      <th>main_category_Design</th>\n",
       "      <th>main_category_Fashion</th>\n",
       "      <th>main_category_Film &amp; Video</th>\n",
       "      <th>...</th>\n",
       "      <th>country_IT</th>\n",
       "      <th>country_JP</th>\n",
       "      <th>country_LU</th>\n",
       "      <th>country_MX</th>\n",
       "      <th>country_NL</th>\n",
       "      <th>country_NO</th>\n",
       "      <th>country_NZ</th>\n",
       "      <th>country_SE</th>\n",
       "      <th>country_SG</th>\n",
       "      <th>country_US</th>\n",
       "    </tr>\n",
       "    <tr>\n",
       "      <th>succeeded</th>\n",
       "      <th></th>\n",
       "      <th></th>\n",
       "      <th></th>\n",
       "      <th></th>\n",
       "      <th></th>\n",
       "      <th></th>\n",
       "      <th></th>\n",
       "      <th></th>\n",
       "      <th></th>\n",
       "      <th></th>\n",
       "      <th></th>\n",
       "      <th></th>\n",
       "      <th></th>\n",
       "      <th></th>\n",
       "      <th></th>\n",
       "      <th></th>\n",
       "      <th></th>\n",
       "      <th></th>\n",
       "      <th></th>\n",
       "      <th></th>\n",
       "      <th></th>\n",
       "    </tr>\n",
       "  </thead>\n",
       "  <tbody>\n",
       "    <tr>\n",
       "      <th>0</th>\n",
       "      <td>-0.356502</td>\n",
       "      <td>0.185376</td>\n",
       "      <td>0.862239</td>\n",
       "      <td>0.071476</td>\n",
       "      <td>0.020415</td>\n",
       "      <td>0.028846</td>\n",
       "      <td>0.006247</td>\n",
       "      <td>0.074931</td>\n",
       "      <td>0.071729</td>\n",
       "      <td>0.166422</td>\n",
       "      <td>...</td>\n",
       "      <td>0.009762</td>\n",
       "      <td>0.000081</td>\n",
       "      <td>0.000192</td>\n",
       "      <td>0.005134</td>\n",
       "      <td>0.009074</td>\n",
       "      <td>0.002129</td>\n",
       "      <td>0.004178</td>\n",
       "      <td>0.005063</td>\n",
       "      <td>0.001396</td>\n",
       "      <td>0.769502</td>\n",
       "    </tr>\n",
       "    <tr>\n",
       "      <th>1</th>\n",
       "      <td>0.528327</td>\n",
       "      <td>-0.193420</td>\n",
       "      <td>0.359416</td>\n",
       "      <td>0.085926</td>\n",
       "      <td>0.043613</td>\n",
       "      <td>0.015789</td>\n",
       "      <td>0.017454</td>\n",
       "      <td>0.078752</td>\n",
       "      <td>0.041754</td>\n",
       "      <td>0.176354</td>\n",
       "      <td>...</td>\n",
       "      <td>0.003277</td>\n",
       "      <td>0.000052</td>\n",
       "      <td>0.000142</td>\n",
       "      <td>0.002956</td>\n",
       "      <td>0.004606</td>\n",
       "      <td>0.001217</td>\n",
       "      <td>0.003344</td>\n",
       "      <td>0.003800</td>\n",
       "      <td>0.001329</td>\n",
       "      <td>0.816554</td>\n",
       "    </tr>\n",
       "  </tbody>\n",
       "</table>\n",
       "<p>2 rows × 40 columns</p>\n",
       "</div>"
      ],
      "text/plain": [
       "            backers  usd_goal_real  duration  main_category_Art  \\\n",
       "succeeded                                                         \n",
       "0         -0.356502       0.185376  0.862239           0.071476   \n",
       "1          0.528327      -0.193420  0.359416           0.085926   \n",
       "\n",
       "           main_category_Comics  main_category_Crafts  main_category_Dance  \\\n",
       "succeeded                                                                    \n",
       "0                      0.020415              0.028846             0.006247   \n",
       "1                      0.043613              0.015789             0.017454   \n",
       "\n",
       "           main_category_Design  main_category_Fashion  \\\n",
       "succeeded                                                \n",
       "0                      0.074931               0.071729   \n",
       "1                      0.078752               0.041754   \n",
       "\n",
       "           main_category_Film & Video     ...      country_IT  country_JP  \\\n",
       "succeeded                                 ...                               \n",
       "0                            0.166422     ...        0.009762    0.000081   \n",
       "1                            0.176354     ...        0.003277    0.000052   \n",
       "\n",
       "           country_LU  country_MX  country_NL  country_NO  country_NZ  \\\n",
       "succeeded                                                               \n",
       "0            0.000192    0.005134    0.009074    0.002129    0.004178   \n",
       "1            0.000142    0.002956    0.004606    0.001217    0.003344   \n",
       "\n",
       "           country_SE  country_SG  country_US  \n",
       "succeeded                                      \n",
       "0            0.005063    0.001396    0.769502  \n",
       "1            0.003800    0.001329    0.816554  \n",
       "\n",
       "[2 rows x 40 columns]"
      ]
     },
     "execution_count": 26,
     "metadata": {},
     "output_type": "execute_result"
    }
   ],
   "source": [
    "# look at means for failed vs. succeeded\n",
    "df_scaled.groupby('succeeded').mean()"
   ]
  },
  {
   "cell_type": "code",
   "execution_count": 27,
   "metadata": {},
   "outputs": [],
   "source": [
    "y = df_scaled['succeeded'] # set target variable\n",
    "X = df_scaled.drop(['succeeded'], axis=1) # set features\n",
    "\n",
    "# split data into training and testing sets\n",
    "X_train, X_test, y_train, y_test = train_test_split(\n",
    "          X, y, test_size=0.30, random_state=42)"
   ]
  },
  {
   "cell_type": "code",
   "execution_count": 28,
   "metadata": {},
   "outputs": [],
   "source": [
    "# Instantiate model\n",
    "lr_mod = LogisticRegression()\n",
    "\n",
    "# fit model to training data\n",
    "lr_mod.fit(X_train, y_train)\n",
    "\n",
    "# get predictions for test set and training set\n",
    "ytest_preds = lr_mod.predict(X_test)\n",
    "ytrain_preds = lr_mod.predict(X_train)"
   ]
  },
  {
   "cell_type": "code",
   "execution_count": 29,
   "metadata": {},
   "outputs": [
    {
     "name": "stdout",
     "output_type": "stream",
     "text": [
      "The accuracy score for the test data is: 93.0912%\n",
      "The accuracy score for the training data is: 93.0125%\n"
     ]
    }
   ],
   "source": [
    "# calculate testing and training set accuracies\n",
    "test_acc = accuracy_score(y_test, ytest_preds) * 100\n",
    "train_acc = accuracy_score(y_train, ytrain_preds) * 100\n",
    "\n",
    "print ('The accuracy score for the test data is: {:.4f}%'.format(test_acc))\n",
    "print ('The accuracy score for the training data is: {:.4f}%'.format(train_acc))"
   ]
  },
  {
   "cell_type": "code",
   "execution_count": 30,
   "metadata": {},
   "outputs": [
    {
     "name": "stdout",
     "output_type": "stream",
     "text": [
      "The F1 score for the test data is: 0.9153%\n",
      "The F1 score for the training data is: 0.9147%\n"
     ]
    }
   ],
   "source": [
    "# calculate testing and training set f1-scores\n",
    "test_f1 = f1_score(y_test, ytest_preds)\n",
    "train_f1 = f1_score(y_train, ytrain_preds)\n",
    "\n",
    "print ('The F1 score for the test data is: {:.4f}%'.format(test_f1))\n",
    "print ('The F1 score for the training data is: {:.4f}%'.format(train_f1))"
   ]
  },
  {
   "cell_type": "markdown",
   "metadata": {},
   "source": [
    "### Explore Question 4: Which features have the greatest influence on success?"
   ]
  },
  {
   "cell_type": "markdown",
   "metadata": {},
   "source": [
    "Now we can look at the coefficients of the features in our model to see which features have the greatest influence on success."
   ]
  },
  {
   "cell_type": "code",
   "execution_count": 31,
   "metadata": {
    "scrolled": true
   },
   "outputs": [
    {
     "data": {
      "text/html": [
       "<div>\n",
       "<style scoped>\n",
       "    .dataframe tbody tr th:only-of-type {\n",
       "        vertical-align: middle;\n",
       "    }\n",
       "\n",
       "    .dataframe tbody tr th {\n",
       "        vertical-align: top;\n",
       "    }\n",
       "\n",
       "    .dataframe thead th {\n",
       "        text-align: right;\n",
       "    }\n",
       "</style>\n",
       "<table border=\"1\" class=\"dataframe\">\n",
       "  <thead>\n",
       "    <tr style=\"text-align: right;\">\n",
       "      <th></th>\n",
       "      <th>feature</th>\n",
       "      <th>coefs</th>\n",
       "      <th>abs_coefs</th>\n",
       "    </tr>\n",
       "  </thead>\n",
       "  <tbody>\n",
       "    <tr>\n",
       "      <th>0</th>\n",
       "      <td>backers</td>\n",
       "      <td>9.574378</td>\n",
       "      <td>9.574378</td>\n",
       "    </tr>\n",
       "    <tr>\n",
       "      <th>1</th>\n",
       "      <td>usd_goal_real</td>\n",
       "      <td>-3.897208</td>\n",
       "      <td>3.897208</td>\n",
       "    </tr>\n",
       "    <tr>\n",
       "      <th>11</th>\n",
       "      <td>main_category_Games</td>\n",
       "      <td>-2.031424</td>\n",
       "      <td>2.031424</td>\n",
       "    </tr>\n",
       "    <tr>\n",
       "      <th>28</th>\n",
       "      <td>country_HK</td>\n",
       "      <td>1.334142</td>\n",
       "      <td>1.334142</td>\n",
       "    </tr>\n",
       "    <tr>\n",
       "      <th>6</th>\n",
       "      <td>main_category_Dance</td>\n",
       "      <td>1.229893</td>\n",
       "      <td>1.229893</td>\n",
       "    </tr>\n",
       "    <tr>\n",
       "      <th>4</th>\n",
       "      <td>main_category_Comics</td>\n",
       "      <td>-1.185187</td>\n",
       "      <td>1.185187</td>\n",
       "    </tr>\n",
       "    <tr>\n",
       "      <th>22</th>\n",
       "      <td>country_CH</td>\n",
       "      <td>1.151776</td>\n",
       "      <td>1.151776</td>\n",
       "    </tr>\n",
       "    <tr>\n",
       "      <th>17</th>\n",
       "      <td>main_category_Theater</td>\n",
       "      <td>1.114728</td>\n",
       "      <td>1.114728</td>\n",
       "    </tr>\n",
       "    <tr>\n",
       "      <th>7</th>\n",
       "      <td>main_category_Design</td>\n",
       "      <td>-0.831899</td>\n",
       "      <td>0.831899</td>\n",
       "    </tr>\n",
       "    <tr>\n",
       "      <th>9</th>\n",
       "      <td>main_category_Film &amp; Video</td>\n",
       "      <td>0.749341</td>\n",
       "      <td>0.749341</td>\n",
       "    </tr>\n",
       "    <tr>\n",
       "      <th>38</th>\n",
       "      <td>country_SG</td>\n",
       "      <td>-0.703638</td>\n",
       "      <td>0.703638</td>\n",
       "    </tr>\n",
       "    <tr>\n",
       "      <th>13</th>\n",
       "      <td>main_category_Music</td>\n",
       "      <td>0.628875</td>\n",
       "      <td>0.628875</td>\n",
       "    </tr>\n",
       "    <tr>\n",
       "      <th>5</th>\n",
       "      <td>main_category_Crafts</td>\n",
       "      <td>-0.598977</td>\n",
       "      <td>0.598977</td>\n",
       "    </tr>\n",
       "    <tr>\n",
       "      <th>25</th>\n",
       "      <td>country_ES</td>\n",
       "      <td>-0.597496</td>\n",
       "      <td>0.597496</td>\n",
       "    </tr>\n",
       "    <tr>\n",
       "      <th>33</th>\n",
       "      <td>country_MX</td>\n",
       "      <td>-0.585498</td>\n",
       "      <td>0.585498</td>\n",
       "    </tr>\n",
       "    <tr>\n",
       "      <th>37</th>\n",
       "      <td>country_SE</td>\n",
       "      <td>-0.520218</td>\n",
       "      <td>0.520218</td>\n",
       "    </tr>\n",
       "    <tr>\n",
       "      <th>16</th>\n",
       "      <td>main_category_Technology</td>\n",
       "      <td>-0.479895</td>\n",
       "      <td>0.479895</td>\n",
       "    </tr>\n",
       "    <tr>\n",
       "      <th>29</th>\n",
       "      <td>country_IE</td>\n",
       "      <td>-0.468149</td>\n",
       "      <td>0.468149</td>\n",
       "    </tr>\n",
       "    <tr>\n",
       "      <th>36</th>\n",
       "      <td>country_NZ</td>\n",
       "      <td>-0.453540</td>\n",
       "      <td>0.453540</td>\n",
       "    </tr>\n",
       "    <tr>\n",
       "      <th>23</th>\n",
       "      <td>country_DE</td>\n",
       "      <td>-0.427188</td>\n",
       "      <td>0.427188</td>\n",
       "    </tr>\n",
       "  </tbody>\n",
       "</table>\n",
       "</div>"
      ],
      "text/plain": [
       "                       feature     coefs  abs_coefs\n",
       "0                      backers  9.574378   9.574378\n",
       "1                usd_goal_real -3.897208   3.897208\n",
       "11         main_category_Games -2.031424   2.031424\n",
       "28                  country_HK  1.334142   1.334142\n",
       "6          main_category_Dance  1.229893   1.229893\n",
       "4         main_category_Comics -1.185187   1.185187\n",
       "22                  country_CH  1.151776   1.151776\n",
       "17       main_category_Theater  1.114728   1.114728\n",
       "7         main_category_Design -0.831899   0.831899\n",
       "9   main_category_Film & Video  0.749341   0.749341\n",
       "38                  country_SG -0.703638   0.703638\n",
       "13         main_category_Music  0.628875   0.628875\n",
       "5         main_category_Crafts -0.598977   0.598977\n",
       "25                  country_ES -0.597496   0.597496\n",
       "33                  country_MX -0.585498   0.585498\n",
       "37                  country_SE -0.520218   0.520218\n",
       "16    main_category_Technology -0.479895   0.479895\n",
       "29                  country_IE -0.468149   0.468149\n",
       "36                  country_NZ -0.453540   0.453540\n",
       "23                  country_DE -0.427188   0.427188"
      ]
     },
     "execution_count": 31,
     "metadata": {},
     "output_type": "execute_result"
    }
   ],
   "source": [
    "# intitialize new dataframe\n",
    "coefs_df = pd.DataFrame()\n",
    "\n",
    "# get feature names and corresponding coefficients\n",
    "coefs_df['feature'] = X_train.columns\n",
    "coefs_df['coefs'] = lr_mod.coef_[0].tolist()\n",
    "coefs_df['abs_coefs'] = np.abs(lr_mod.coef_[0].tolist()) #absolute value of coefficients\n",
    "\n",
    "# sort dataframe by abs_coefs, display top 20\n",
    "coefs_df = coefs_df.sort_values('abs_coefs', ascending=False).head(20)\n",
    "coefs_df"
   ]
  },
  {
   "cell_type": "code",
   "execution_count": 32,
   "metadata": {},
   "outputs": [],
   "source": [
    "coefs_df.to_csv('coefs.csv', index=False)"
   ]
  },
  {
   "cell_type": "markdown",
   "metadata": {},
   "source": [
    "From the table above, we can see that the number of backers has the greatest influence on success according to the model. The feature with the second largest influence is the goal amount, which has a negative relationship to success. Category and country also have a small influence on success."
   ]
  },
  {
   "cell_type": "markdown",
   "metadata": {},
   "source": [
    "### Explore Question 5: Can we predict success of current/future projects?"
   ]
  },
  {
   "cell_type": "markdown",
   "metadata": {},
   "source": [
    "Obviously the number of backers may have changed for some of these projects as time went on. But we can try to predict which of the live projects will succeed based on how things were going at the time the data was pulled."
   ]
  },
  {
   "cell_type": "code",
   "execution_count": 33,
   "metadata": {
    "scrolled": true
   },
   "outputs": [
    {
     "data": {
      "text/html": [
       "<div>\n",
       "<style scoped>\n",
       "    .dataframe tbody tr th:only-of-type {\n",
       "        vertical-align: middle;\n",
       "    }\n",
       "\n",
       "    .dataframe tbody tr th {\n",
       "        vertical-align: top;\n",
       "    }\n",
       "\n",
       "    .dataframe thead th {\n",
       "        text-align: right;\n",
       "    }\n",
       "</style>\n",
       "<table border=\"1\" class=\"dataframe\">\n",
       "  <thead>\n",
       "    <tr style=\"text-align: right;\">\n",
       "      <th></th>\n",
       "      <th>ID</th>\n",
       "      <th>name</th>\n",
       "      <th>category</th>\n",
       "      <th>main_category</th>\n",
       "      <th>currency</th>\n",
       "      <th>deadline</th>\n",
       "      <th>goal</th>\n",
       "      <th>launched</th>\n",
       "      <th>pledged</th>\n",
       "      <th>state</th>\n",
       "      <th>backers</th>\n",
       "      <th>country</th>\n",
       "      <th>usd pledged</th>\n",
       "      <th>usd_pledged_real</th>\n",
       "      <th>usd_goal_real</th>\n",
       "    </tr>\n",
       "  </thead>\n",
       "  <tbody>\n",
       "    <tr>\n",
       "      <th>40</th>\n",
       "      <td>1000149007</td>\n",
       "      <td>Unschooling To University Book Project</td>\n",
       "      <td>Nonfiction</td>\n",
       "      <td>Publishing</td>\n",
       "      <td>CAD</td>\n",
       "      <td>2018-01-19</td>\n",
       "      <td>3000.0</td>\n",
       "      <td>2017-11-20 18:15:14</td>\n",
       "      <td>592.0</td>\n",
       "      <td>live</td>\n",
       "      <td>24</td>\n",
       "      <td>CA</td>\n",
       "      <td>185.65</td>\n",
       "      <td>472.88</td>\n",
       "      <td>2396.36</td>\n",
       "    </tr>\n",
       "    <tr>\n",
       "      <th>183</th>\n",
       "      <td>1000761521</td>\n",
       "      <td>KILOS.</td>\n",
       "      <td>Thrillers</td>\n",
       "      <td>Film &amp; Video</td>\n",
       "      <td>USD</td>\n",
       "      <td>2018-02-06</td>\n",
       "      <td>5000.0</td>\n",
       "      <td>2017-12-23 20:34:31</td>\n",
       "      <td>310.0</td>\n",
       "      <td>live</td>\n",
       "      <td>4</td>\n",
       "      <td>US</td>\n",
       "      <td>200.00</td>\n",
       "      <td>310.00</td>\n",
       "      <td>5000.00</td>\n",
       "    </tr>\n",
       "    <tr>\n",
       "      <th>458</th>\n",
       "      <td>1002183790</td>\n",
       "      <td>The Man in the Field</td>\n",
       "      <td>Horror</td>\n",
       "      <td>Film &amp; Video</td>\n",
       "      <td>GBP</td>\n",
       "      <td>2018-01-08</td>\n",
       "      <td>850.0</td>\n",
       "      <td>2017-12-21 11:19:18</td>\n",
       "      <td>413.0</td>\n",
       "      <td>live</td>\n",
       "      <td>11</td>\n",
       "      <td>GB</td>\n",
       "      <td>13.39</td>\n",
       "      <td>563.32</td>\n",
       "      <td>1159.38</td>\n",
       "    </tr>\n",
       "    <tr>\n",
       "      <th>537</th>\n",
       "      <td>1002599057</td>\n",
       "      <td>Dear Atlantas</td>\n",
       "      <td>Film &amp; Video</td>\n",
       "      <td>Film &amp; Video</td>\n",
       "      <td>USD</td>\n",
       "      <td>2018-02-16</td>\n",
       "      <td>2000.0</td>\n",
       "      <td>2017-12-18 02:48:27</td>\n",
       "      <td>5.0</td>\n",
       "      <td>live</td>\n",
       "      <td>1</td>\n",
       "      <td>US</td>\n",
       "      <td>5.00</td>\n",
       "      <td>5.00</td>\n",
       "      <td>2000.00</td>\n",
       "    </tr>\n",
       "    <tr>\n",
       "      <th>544</th>\n",
       "      <td>1002629894</td>\n",
       "      <td>Art Calendar 2018</td>\n",
       "      <td>Illustration</td>\n",
       "      <td>Art</td>\n",
       "      <td>MXN</td>\n",
       "      <td>2018-01-06</td>\n",
       "      <td>1000.0</td>\n",
       "      <td>2017-12-21 05:34:12</td>\n",
       "      <td>0.0</td>\n",
       "      <td>live</td>\n",
       "      <td>0</td>\n",
       "      <td>MX</td>\n",
       "      <td>0.00</td>\n",
       "      <td>0.00</td>\n",
       "      <td>52.32</td>\n",
       "    </tr>\n",
       "  </tbody>\n",
       "</table>\n",
       "</div>"
      ],
      "text/plain": [
       "             ID                                    name      category  \\\n",
       "40   1000149007  Unschooling To University Book Project    Nonfiction   \n",
       "183  1000761521                                  KILOS.     Thrillers   \n",
       "458  1002183790                    The Man in the Field        Horror   \n",
       "537  1002599057                           Dear Atlantas  Film & Video   \n",
       "544  1002629894                       Art Calendar 2018  Illustration   \n",
       "\n",
       "    main_category currency    deadline    goal             launched  pledged  \\\n",
       "40     Publishing      CAD  2018-01-19  3000.0  2017-11-20 18:15:14    592.0   \n",
       "183  Film & Video      USD  2018-02-06  5000.0  2017-12-23 20:34:31    310.0   \n",
       "458  Film & Video      GBP  2018-01-08   850.0  2017-12-21 11:19:18    413.0   \n",
       "537  Film & Video      USD  2018-02-16  2000.0  2017-12-18 02:48:27      5.0   \n",
       "544           Art      MXN  2018-01-06  1000.0  2017-12-21 05:34:12      0.0   \n",
       "\n",
       "    state  backers country  usd pledged  usd_pledged_real  usd_goal_real  \n",
       "40   live       24      CA       185.65            472.88        2396.36  \n",
       "183  live        4      US       200.00            310.00        5000.00  \n",
       "458  live       11      GB        13.39            563.32        1159.38  \n",
       "537  live        1      US         5.00              5.00        2000.00  \n",
       "544  live        0      MX         0.00              0.00          52.32  "
      ]
     },
     "execution_count": 33,
     "metadata": {},
     "output_type": "execute_result"
    }
   ],
   "source": [
    "df_live = df[df.state == 'live']\n",
    "df_live.head()"
   ]
  },
  {
   "cell_type": "code",
   "execution_count": 34,
   "metadata": {
    "scrolled": true
   },
   "outputs": [
    {
     "data": {
      "text/plain": [
       "(2799, 15)"
      ]
     },
     "execution_count": 34,
     "metadata": {},
     "output_type": "execute_result"
    }
   ],
   "source": [
    "df_live.shape"
   ]
  },
  {
   "cell_type": "code",
   "execution_count": 35,
   "metadata": {},
   "outputs": [
    {
     "name": "stdout",
     "output_type": "stream",
     "text": [
      "<class 'pandas.core.frame.DataFrame'>\n",
      "Int64Index: 2799 entries, 40 to 378512\n",
      "Data columns (total 15 columns):\n",
      "ID                  2799 non-null int64\n",
      "name                2799 non-null object\n",
      "category            2799 non-null object\n",
      "main_category       2799 non-null object\n",
      "currency            2799 non-null object\n",
      "deadline            2799 non-null object\n",
      "goal                2799 non-null float64\n",
      "launched            2799 non-null object\n",
      "pledged             2799 non-null float64\n",
      "state               2799 non-null object\n",
      "backers             2799 non-null int64\n",
      "country             2799 non-null object\n",
      "usd pledged         2798 non-null float64\n",
      "usd_pledged_real    2799 non-null float64\n",
      "usd_goal_real       2799 non-null float64\n",
      "dtypes: float64(5), int64(2), object(8)\n",
      "memory usage: 349.9+ KB\n"
     ]
    }
   ],
   "source": [
    "df_live.info()"
   ]
  },
  {
   "cell_type": "markdown",
   "metadata": {},
   "source": [
    "There are 2799 projects marked as live in this dataset, with no missing values. Let's look at how many of these live projects already succeeded even though they did not yet reach the deadline at the time the data was pulled (i.e. the projects who have a greater pledged amount than goal amount)."
   ]
  },
  {
   "cell_type": "code",
   "execution_count": 36,
   "metadata": {},
   "outputs": [],
   "source": [
    "# get live projects that already have a higher pledgeed amt than goal amt\n",
    "live_succeeded = df_live[df_live.usd_pledged_real > df_live.usd_goal_real]"
   ]
  },
  {
   "cell_type": "code",
   "execution_count": 37,
   "metadata": {
    "scrolled": true
   },
   "outputs": [
    {
     "data": {
      "text/plain": [
       "15.326902465166132"
      ]
     },
     "execution_count": 37,
     "metadata": {},
     "output_type": "execute_result"
    }
   ],
   "source": [
    "percent_already_succeeded = len(live_succeeded)/len(df_live) * 100\n",
    "percent_already_succeeded"
   ]
  },
  {
   "cell_type": "markdown",
   "metadata": {},
   "source": [
    "Around 15% of these live projects already succeeded at the time of the data collection."
   ]
  },
  {
   "cell_type": "code",
   "execution_count": 38,
   "metadata": {},
   "outputs": [],
   "source": [
    "# turn off warning print-outs\n",
    "import warnings\n",
    "warnings.simplefilter('ignore')"
   ]
  },
  {
   "cell_type": "code",
   "execution_count": 39,
   "metadata": {},
   "outputs": [],
   "source": [
    "# clean data to use with model\n",
    "df_live = kml.clean_data(df_live)"
   ]
  },
  {
   "cell_type": "code",
   "execution_count": 40,
   "metadata": {},
   "outputs": [
    {
     "data": {
      "text/html": [
       "<div>\n",
       "<style scoped>\n",
       "    .dataframe tbody tr th:only-of-type {\n",
       "        vertical-align: middle;\n",
       "    }\n",
       "\n",
       "    .dataframe tbody tr th {\n",
       "        vertical-align: top;\n",
       "    }\n",
       "\n",
       "    .dataframe thead th {\n",
       "        text-align: right;\n",
       "    }\n",
       "</style>\n",
       "<table border=\"1\" class=\"dataframe\">\n",
       "  <thead>\n",
       "    <tr style=\"text-align: right;\">\n",
       "      <th></th>\n",
       "      <th>succeeded</th>\n",
       "      <th>backers</th>\n",
       "      <th>usd_goal_real</th>\n",
       "      <th>duration</th>\n",
       "      <th>main_category_Art</th>\n",
       "      <th>main_category_Comics</th>\n",
       "      <th>main_category_Crafts</th>\n",
       "      <th>main_category_Dance</th>\n",
       "      <th>main_category_Design</th>\n",
       "      <th>main_category_Fashion</th>\n",
       "      <th>...</th>\n",
       "      <th>country_IT</th>\n",
       "      <th>country_JP</th>\n",
       "      <th>country_LU</th>\n",
       "      <th>country_MX</th>\n",
       "      <th>country_NL</th>\n",
       "      <th>country_NO</th>\n",
       "      <th>country_NZ</th>\n",
       "      <th>country_SE</th>\n",
       "      <th>country_SG</th>\n",
       "      <th>country_US</th>\n",
       "    </tr>\n",
       "  </thead>\n",
       "  <tbody>\n",
       "    <tr>\n",
       "      <th>40</th>\n",
       "      <td>NaN</td>\n",
       "      <td>3.218876</td>\n",
       "      <td>7.782123</td>\n",
       "      <td>60</td>\n",
       "      <td>0</td>\n",
       "      <td>0</td>\n",
       "      <td>0</td>\n",
       "      <td>0</td>\n",
       "      <td>0</td>\n",
       "      <td>0</td>\n",
       "      <td>...</td>\n",
       "      <td>0</td>\n",
       "      <td>0</td>\n",
       "      <td>0</td>\n",
       "      <td>0</td>\n",
       "      <td>0</td>\n",
       "      <td>0</td>\n",
       "      <td>0</td>\n",
       "      <td>0</td>\n",
       "      <td>0</td>\n",
       "      <td>0</td>\n",
       "    </tr>\n",
       "    <tr>\n",
       "      <th>183</th>\n",
       "      <td>NaN</td>\n",
       "      <td>1.609438</td>\n",
       "      <td>8.517393</td>\n",
       "      <td>45</td>\n",
       "      <td>0</td>\n",
       "      <td>0</td>\n",
       "      <td>0</td>\n",
       "      <td>0</td>\n",
       "      <td>0</td>\n",
       "      <td>0</td>\n",
       "      <td>...</td>\n",
       "      <td>0</td>\n",
       "      <td>0</td>\n",
       "      <td>0</td>\n",
       "      <td>0</td>\n",
       "      <td>0</td>\n",
       "      <td>0</td>\n",
       "      <td>0</td>\n",
       "      <td>0</td>\n",
       "      <td>0</td>\n",
       "      <td>1</td>\n",
       "    </tr>\n",
       "    <tr>\n",
       "      <th>458</th>\n",
       "      <td>NaN</td>\n",
       "      <td>2.484907</td>\n",
       "      <td>7.056503</td>\n",
       "      <td>18</td>\n",
       "      <td>0</td>\n",
       "      <td>0</td>\n",
       "      <td>0</td>\n",
       "      <td>0</td>\n",
       "      <td>0</td>\n",
       "      <td>0</td>\n",
       "      <td>...</td>\n",
       "      <td>0</td>\n",
       "      <td>0</td>\n",
       "      <td>0</td>\n",
       "      <td>0</td>\n",
       "      <td>0</td>\n",
       "      <td>0</td>\n",
       "      <td>0</td>\n",
       "      <td>0</td>\n",
       "      <td>0</td>\n",
       "      <td>0</td>\n",
       "    </tr>\n",
       "    <tr>\n",
       "      <th>537</th>\n",
       "      <td>NaN</td>\n",
       "      <td>0.693147</td>\n",
       "      <td>7.601402</td>\n",
       "      <td>60</td>\n",
       "      <td>0</td>\n",
       "      <td>0</td>\n",
       "      <td>0</td>\n",
       "      <td>0</td>\n",
       "      <td>0</td>\n",
       "      <td>0</td>\n",
       "      <td>...</td>\n",
       "      <td>0</td>\n",
       "      <td>0</td>\n",
       "      <td>0</td>\n",
       "      <td>0</td>\n",
       "      <td>0</td>\n",
       "      <td>0</td>\n",
       "      <td>0</td>\n",
       "      <td>0</td>\n",
       "      <td>0</td>\n",
       "      <td>1</td>\n",
       "    </tr>\n",
       "    <tr>\n",
       "      <th>544</th>\n",
       "      <td>NaN</td>\n",
       "      <td>0.000000</td>\n",
       "      <td>3.976311</td>\n",
       "      <td>16</td>\n",
       "      <td>1</td>\n",
       "      <td>0</td>\n",
       "      <td>0</td>\n",
       "      <td>0</td>\n",
       "      <td>0</td>\n",
       "      <td>0</td>\n",
       "      <td>...</td>\n",
       "      <td>0</td>\n",
       "      <td>0</td>\n",
       "      <td>0</td>\n",
       "      <td>1</td>\n",
       "      <td>0</td>\n",
       "      <td>0</td>\n",
       "      <td>0</td>\n",
       "      <td>0</td>\n",
       "      <td>0</td>\n",
       "      <td>0</td>\n",
       "    </tr>\n",
       "  </tbody>\n",
       "</table>\n",
       "<p>5 rows × 41 columns</p>\n",
       "</div>"
      ],
      "text/plain": [
       "     succeeded   backers  usd_goal_real  duration  main_category_Art  \\\n",
       "40         NaN  3.218876       7.782123        60                  0   \n",
       "183        NaN  1.609438       8.517393        45                  0   \n",
       "458        NaN  2.484907       7.056503        18                  0   \n",
       "537        NaN  0.693147       7.601402        60                  0   \n",
       "544        NaN  0.000000       3.976311        16                  1   \n",
       "\n",
       "     main_category_Comics  main_category_Crafts  main_category_Dance  \\\n",
       "40                      0                     0                    0   \n",
       "183                     0                     0                    0   \n",
       "458                     0                     0                    0   \n",
       "537                     0                     0                    0   \n",
       "544                     0                     0                    0   \n",
       "\n",
       "     main_category_Design  main_category_Fashion     ...      country_IT  \\\n",
       "40                      0                      0     ...               0   \n",
       "183                     0                      0     ...               0   \n",
       "458                     0                      0     ...               0   \n",
       "537                     0                      0     ...               0   \n",
       "544                     0                      0     ...               0   \n",
       "\n",
       "     country_JP  country_LU  country_MX  country_NL  country_NO  country_NZ  \\\n",
       "40            0           0           0           0           0           0   \n",
       "183           0           0           0           0           0           0   \n",
       "458           0           0           0           0           0           0   \n",
       "537           0           0           0           0           0           0   \n",
       "544           0           0           1           0           0           0   \n",
       "\n",
       "     country_SE  country_SG  country_US  \n",
       "40            0           0           0  \n",
       "183           0           0           1  \n",
       "458           0           0           0  \n",
       "537           0           0           1  \n",
       "544           0           0           0  \n",
       "\n",
       "[5 rows x 41 columns]"
      ]
     },
     "execution_count": 40,
     "metadata": {},
     "output_type": "execute_result"
    }
   ],
   "source": [
    "df_live.head()"
   ]
  },
  {
   "cell_type": "code",
   "execution_count": 41,
   "metadata": {},
   "outputs": [
    {
     "data": {
      "text/plain": [
       "40     0.145833\n",
       "183   -0.380081\n",
       "458   -0.094005\n",
       "537   -0.679496\n",
       "544   -0.905995\n",
       "Name: backers, dtype: float64"
      ]
     },
     "execution_count": 41,
     "metadata": {},
     "output_type": "execute_result"
    }
   ],
   "source": [
    "# apply scaler to df_live numerical features (don't re-fit)\n",
    "numerical = ['backers', 'duration', 'usd_goal_real']\n",
    "df_live_scaled = pd.DataFrame(data=df_live)\n",
    "df_live_scaled[numerical] = scaler.transform(df_live_scaled[numerical])\n",
    "\n",
    "# check\n",
    "df_live_scaled.backers.head()"
   ]
  },
  {
   "cell_type": "code",
   "execution_count": 42,
   "metadata": {},
   "outputs": [],
   "source": [
    "# drop 'succeeded' column since that's what we're trying to predict\n",
    "X_live = df_live_scaled.drop(['succeeded'], axis=1)"
   ]
  },
  {
   "cell_type": "code",
   "execution_count": 43,
   "metadata": {},
   "outputs": [],
   "source": [
    "# get predictions for live projects\n",
    "live_preds = lr_mod.predict(X_live)"
   ]
  },
  {
   "cell_type": "code",
   "execution_count": 44,
   "metadata": {},
   "outputs": [],
   "source": [
    "# convert predictions into dataframe\n",
    "live_preds_df = pd.DataFrame(live_preds)\n",
    "live_preds_df.columns = ['succeeded']"
   ]
  },
  {
   "cell_type": "code",
   "execution_count": 45,
   "metadata": {},
   "outputs": [
    {
     "name": "stdout",
     "output_type": "stream",
     "text": [
      "The predicted success rate for the live projects in the dataset is: 23.90%\n"
     ]
    }
   ],
   "source": [
    "# get predicted success rate of live projects\n",
    "success_rate_live = live_preds_df.succeeded.mean()\n",
    "print ('The predicted success rate for the live projects in the dataset is: {:.2f}%'.format(success_rate_live*100))"
   ]
  },
  {
   "cell_type": "code",
   "execution_count": 46,
   "metadata": {
    "scrolled": true
   },
   "outputs": [
    {
     "data": {
      "image/png": "[encoded data removed]",
      "text/plain": [
       "<matplotlib.figure.Figure at 0x1a16ec6550>"
      ]
     },
     "metadata": {},
     "output_type": "display_data"
    }
   ],
   "source": [
    "# create count plot\n",
    "sns.countplot(x='succeeded', data=live_preds_df);"
   ]
  },
  {
   "cell_type": "markdown",
   "metadata": {},
   "source": [
    "From this model, we can predict that 24% of the live projects will succeed based on the information we have (~9% more than already succeeded)."
   ]
  },
  {
   "cell_type": "markdown",
   "metadata": {},
   "source": [
    "### Explore Question 5, continued: Build model without using number of backers"
   ]
  },
  {
   "cell_type": "markdown",
   "metadata": {},
   "source": [
    "Before a project goes live, we will not know the number of backers. Therefore, a model that can predict the outcome of a project before it goes live would be helpful. So let's now build a model that does not use the number of backers as a feature - we can assume this will decrease the accuracy though since we found that number of backers is the biggest indicator of success."
   ]
  },
  {
   "cell_type": "code",
   "execution_count": 47,
   "metadata": {},
   "outputs": [],
   "source": [
    "y = df_scaled['succeeded'] # set target variable\n",
    "X = df_scaled.drop(['succeeded','backers'], axis=1) # set features\n",
    "\n",
    "# split data into training and testing sets\n",
    "X_train, X_test, y_train, y_test = train_test_split(\n",
    "          X, y, test_size=0.30, random_state=42)"
   ]
  },
  {
   "cell_type": "code",
   "execution_count": 48,
   "metadata": {},
   "outputs": [],
   "source": [
    "# Instantiate model\n",
    "lr_mod2 = LogisticRegression()\n",
    "\n",
    "# fit model to training data\n",
    "lr_mod2.fit(X_train, y_train)\n",
    "\n",
    "# get predictions for test data\n",
    "ytest_preds2 = lr_mod2.predict(X_test)\n",
    "ytrain_preds2 = lr_mod2.predict(X_train)"
   ]
  },
  {
   "cell_type": "code",
   "execution_count": 49,
   "metadata": {},
   "outputs": [
    {
     "name": "stdout",
     "output_type": "stream",
     "text": [
      "The accuracy score for the test data is: 65.0834%\n",
      "The accuracy score for the training data is: 64.8591%\n"
     ]
    }
   ],
   "source": [
    "# calculate testing and training set accuracies with this new model\n",
    "test_acc2 = accuracy_score(y_test, ytest_preds2) * 100\n",
    "train_acc2 = accuracy_score(y_train, ytrain_preds2) * 100\n",
    "\n",
    "print ('The accuracy score for the test data is: {:.4f}%'.format(test_acc2))\n",
    "print ('The accuracy score for the training data is: {:.4f}%'.format(train_acc2))"
   ]
  },
  {
   "cell_type": "code",
   "execution_count": 50,
   "metadata": {},
   "outputs": [
    {
     "name": "stdout",
     "output_type": "stream",
     "text": [
      "The F1 score for the test data is: 0.4832%\n",
      "The F1 score for the training data is: 0.4813%\n"
     ]
    }
   ],
   "source": [
    "# calculate testing and training set f1-scores with this new model\n",
    "test_f1_2 = f1_score(y_test, ytest_preds2)\n",
    "train_f1_2 = f1_score(y_train, ytrain_preds2)\n",
    "\n",
    "print ('The F1 score for the test data is: {:.4f}%'.format(test_f1_2))\n",
    "print ('The F1 score for the training data is: {:.4f}%'.format(train_f1_2))"
   ]
  },
  {
   "cell_type": "markdown",
   "metadata": {},
   "source": [
    "As expected, the accuracy and f1-score went down for this model. Trying different types of models and performing optimization could help increase these scores.\n",
    "\n",
    "Let's go ahead and predict the outcomes without backers anyway."
   ]
  },
  {
   "cell_type": "code",
   "execution_count": 51,
   "metadata": {},
   "outputs": [],
   "source": [
    "# get predictions for live projects using model without backers column\n",
    "X_live = X_live.drop('backers', axis=1)\n",
    "\n",
    "live_preds2 = lr_mod2.predict(X_live)"
   ]
  },
  {
   "cell_type": "code",
   "execution_count": 52,
   "metadata": {},
   "outputs": [],
   "source": [
    "live_preds_df2 = pd.DataFrame(live_preds2)\n",
    "live_preds_df2.columns = ['succeeded']"
   ]
  },
  {
   "cell_type": "code",
   "execution_count": 53,
   "metadata": {},
   "outputs": [
    {
     "name": "stdout",
     "output_type": "stream",
     "text": [
      "The predicted success rate for the live projects in the dataset is: 18.26%\n"
     ]
    }
   ],
   "source": [
    "# convert predictions into dataframe\n",
    "success_rate_live2 = live_preds_df2.succeeded.mean()\n",
    "print ('The predicted success rate for the live projects in the dataset is: {:.2f}%'.format(success_rate_live2*100))"
   ]
  },
  {
   "cell_type": "code",
   "execution_count": 54,
   "metadata": {},
   "outputs": [
    {
     "data": {
      "image/png": "[encoded data removed]",
      "text/plain": [
       "<matplotlib.figure.Figure at 0x1a1621a208>"
      ]
     },
     "metadata": {},
     "output_type": "display_data"
    }
   ],
   "source": [
    "# create countplot\n",
    "sns.countplot(x='succeeded', data=live_preds_df2);"
   ]
  },
  {
   "cell_type": "markdown",
   "metadata": {},
   "source": [
    "Without using backers, we can predict that around 18% of the live projects will succeed based on the information we have (~3% more than already succeeded)."
   ]
  },
  {
   "cell_type": "code",
   "execution_count": 55,
   "metadata": {},
   "outputs": [
    {
     "data": {
      "image/png": "[encoded data removed]",
      "text/plain": [
       "<matplotlib.figure.Figure at 0x1a16d53a90>"
      ]
     },
     "metadata": {},
     "output_type": "display_data"
    }
   ],
   "source": [
    "# graph accuracy of model with backers and model without backers\n",
    "# plot pledged and goal medians for failed vs. successful projects\n",
    "with_b_heights = [train_acc, test_acc]\n",
    "without_b_heights = [train_acc2, test_acc2]\n",
    "\n",
    "ind = np.arange(0,2)\n",
    "labels = ['Training data','Test data']\n",
    "\n",
    "width = 0.3\n",
    "\n",
    "plt.figure(figsize=(7,5))\n",
    "plt.bar(ind, with_b_heights, width, color='#419df4', label='Model using backers')\n",
    "plt.bar(ind+width, without_b_heights, width, color='#f49242', label='Model without using backers')\n",
    "plt.xticks(ind+0.15, labels, size=12)\n",
    "plt.yticks(size=12)\n",
    "plt.ylabel('% accuracy', size=14)\n",
    "plt.legend(loc=3, prop={'size': 12})\n",
    "\n",
    "# add values to bars\n",
    "plt.text(-0.07,87,'{:.2f}%'.format(with_b_heights[0]))\n",
    "plt.text(0.22,59,'{:.2f}%'.format(without_b_heights[0]))\n",
    "plt.text(0.92,87,'{:.2f}%'.format(with_b_heights[1]))\n",
    "plt.text(1.22,59,'{:.2f}%'.format(without_b_heights[1]))\n",
    "\n",
    "# save figure\n",
    "plt.savefig('model_accuracy.png', bbox_inches='tight');"
   ]
  },
  {
   "cell_type": "code",
   "execution_count": null,
   "metadata": {},
   "outputs": [],
   "source": []
  }
 ],
 "metadata": {
  "kernelspec": {
   "display_name": "Python [default]",
   "language": "python",
   "name": "python3"
  },
  "language_info": {
   "codemirror_mode": {
    "name": "ipython",
    "version": 3
   },
   "file_extension": ".py",
   "mimetype": "text/x-python",
   "name": "python",
   "nbconvert_exporter": "python",
   "pygments_lexer": "ipython3",
   "version": "3.6.4"
  }
 },
 "nbformat": 4,
 "nbformat_minor": 2
}
